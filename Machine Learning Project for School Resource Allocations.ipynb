{
 "cells": [
  {
   "cell_type": "markdown",
   "id": "9bd807f5-57b9-4b21-bbc1-f218e7353684",
   "metadata": {},
   "source": [
    "# Machine Learning Project for School Resource Allocations\n",
    "## Estrella Arellano"
   ]
  },
  {
   "cell_type": "markdown",
   "id": "1cc437f9-0128-42fa-b893-b3379e04698a",
   "metadata": {},
   "source": [
    "## Overview:\n",
    "### Objective\n",
    "Given various student data collected from two Portuguese schools with students from 15-22 years old, a machine learning model will be created to predict a student's performance based on select attributes.  This model will be used to identify students that could benefit from additional assistance and interventions to improve their grade in the course.  "
   ]
  },
  {
   "cell_type": "markdown",
   "id": "1c6fc3ce-9584-432c-a89d-010c0cee986f",
   "metadata": {},
   "source": [
    "### Framing the Problem\n",
    "Supervised online learning will be utilized for this task.  Supervised learning is where you train a model on labeled examples to be able to predict outcomes (in this case: student's performance) on new, unseen data (new students), and online learning uses algorithms that learn incrementally where the system is trained by individual instances or mini-batches of data.  "
   ]
  },
  {
   "cell_type": "markdown",
   "id": "755c7136-476d-4db4-b7dc-85f9634d7e0d",
   "metadata": {},
   "source": [
    "### Machine Learning Task\n",
    "Regression analysis will be used to predict the final numerical grades (from 0 to 20) for the students as opposed to a classification analysis that would only predict if the student would pass or fail the course.  Regression analysis also gives the opportunity to identify \"potential risk\" students that are possible borderline cases."
   ]
  },
  {
   "cell_type": "markdown",
   "id": "0e831271-48f7-404a-a661-db8e5cbbd255",
   "metadata": {},
   "source": [
    "### Performance Metrics\n",
    "Root Mean Squared Error (RMSE) will be used to measure the predictive model's accuracy.  RMSE is the square root of the average of the differences between predicted G3 grades and actual G3 grades (a lower RMSE indicates better model performance).  R Squared will also be used as a final performance metric to compare all four models; a higher R squared value indicates that the model fits the data well, meaning that the student's final grades is well-explained by the selected student's attributes/features."
   ]
  },
  {
   "cell_type": "markdown",
   "id": "ead730a2-f41b-4ef0-913b-82410783b83a",
   "metadata": {},
   "source": [
    "### Additional Info\n",
    "A total of four regression models will be created (with and without G1 and G2 grade terms) and their performances will be compared to each other in attempts to find a suitable predictive model for the student's G3 final grades based on selected attributes for the student."
   ]
  },
  {
   "cell_type": "markdown",
   "id": "1f320b5f-4136-4233-bf9d-6f655bfc8b6d",
   "metadata": {},
   "source": [
    "## Get the Data:"
   ]
  },
  {
   "cell_type": "markdown",
   "id": "44f43d03-34d8-4f9f-b6ba-4133f0da0500",
   "metadata": {},
   "source": [
    "### Import the Data\n",
    "Importing the data is loading the dataset (csv file) that will be used for training (X_train, y_train), testing (X_test, y_test), and evaluating the four machine learning models."
   ]
  },
  {
   "cell_type": "code",
   "execution_count": 1,
   "id": "af4f4312-64be-4e97-a13f-855fed356a35",
   "metadata": {},
   "outputs": [],
   "source": [
    "# import needed libraries to perform analysis \n",
    "import pandas as pd\n",
    "import numpy as np"
   ]
  },
  {
   "cell_type": "code",
   "execution_count": 2,
   "id": "30ce2451-99da-4212-81b5-68c7719d8c24",
   "metadata": {},
   "outputs": [],
   "source": [
    "# import the csv file with student's data as a DataFrame (similar output to excel file)\n",
    "students = pd.read_csv('student-mat.csv')"
   ]
  },
  {
   "cell_type": "markdown",
   "id": "80f40d53-8e04-426e-a09b-9510ba5696ad",
   "metadata": {},
   "source": [
    "### Checking the Size and Type of Data"
   ]
  },
  {
   "cell_type": "code",
   "execution_count": 3,
   "id": "efa93954-8559-4084-820e-7551973acf67",
   "metadata": {},
   "outputs": [
    {
     "name": "stdout",
     "output_type": "stream",
     "text": [
      "<class 'pandas.core.frame.DataFrame'>\n",
      "RangeIndex: 395 entries, 0 to 394\n",
      "Data columns (total 35 columns):\n",
      " #   Column       Non-Null Count  Dtype  \n",
      "---  ------       --------------  -----  \n",
      " 0   school       395 non-null    object \n",
      " 1   sex          395 non-null    object \n",
      " 2   age          383 non-null    float64\n",
      " 3   address      395 non-null    object \n",
      " 4   famsize      395 non-null    object \n",
      " 5   Pstatus      395 non-null    object \n",
      " 6   Medu         395 non-null    int64  \n",
      " 7   Fedu         395 non-null    int64  \n",
      " 8   Mjob         395 non-null    object \n",
      " 9   Fjob         395 non-null    object \n",
      " 10  reason       395 non-null    object \n",
      " 11  guardian     395 non-null    object \n",
      " 12  traveltime   395 non-null    int64  \n",
      " 13  studytime    395 non-null    int64  \n",
      " 14  failures     395 non-null    int64  \n",
      " 15  schoolsup    395 non-null    object \n",
      " 16  famsup       395 non-null    object \n",
      " 17  paid         395 non-null    object \n",
      " 18  activities   395 non-null    object \n",
      " 19  nursery      395 non-null    object \n",
      " 20  higher       395 non-null    object \n",
      " 21  internet     395 non-null    object \n",
      " 22  romantic     395 non-null    object \n",
      " 23  famrel       395 non-null    int64  \n",
      " 24  freetime     395 non-null    int64  \n",
      " 25  goout        395 non-null    int64  \n",
      " 26  Dalc         395 non-null    int64  \n",
      " 27  Walc         395 non-null    int64  \n",
      " 28  health       395 non-null    int64  \n",
      " 29  absences_G1  381 non-null    float64\n",
      " 30  absences_G2  381 non-null    float64\n",
      " 31  absences_G3  381 non-null    float64\n",
      " 32  G1           395 non-null    int64  \n",
      " 33  G2           395 non-null    int64  \n",
      " 34  G3           395 non-null    int64  \n",
      "dtypes: float64(4), int64(14), object(17)\n",
      "memory usage: 108.1+ KB\n"
     ]
    }
   ],
   "source": [
    "# reviewing the columns, checking the total count of non-null entries, and analyzing the data types associated with each column\n",
    "students.info()"
   ]
  },
  {
   "cell_type": "markdown",
   "id": "45762311-1a94-4c80-a435-5f9aee8daa3d",
   "metadata": {},
   "source": [
    "### Features and Their Data Descriptions"
   ]
  },
  {
   "cell_type": "markdown",
   "id": "f660fb24-00ad-4eab-a1aa-b4df822327f6",
   "metadata": {},
   "source": [
    "Features/Attributes\n",
    "1. school - student's school (\"GP\" - Gabriel Pereira or \"MS\" - Mousinho da Silveira)\n",
    "2. sex - student's sex (\"F\" - female or \"M\" - male)\n",
    "3. age - student's age (numeric from 15 to 22)\n",
    "4. address - student's home address type (\"U\" - urban or \"R\" - rural)\n",
    "5. famsize - family size (\"LE3\" - less or equal to 3 or \"GT3\" - greater than 3)\n",
    "6. Pstatus - parent's cohabitation status (\"T\" - living together or \"A\" - apart)\n",
    "7. Medu - mother's education (0 - none, 1 - primary education (4th grade), 2 – 5th to 9th\n",
    "grade, 3 – secondary education or 4 – higher education)\n",
    "8. Fedu - father's education (0 - none, 1 - primary education (4th grade), 2 – 5th to 9th\n",
    "grade, 3 – secondary education or 4 – higher education)\n",
    "9. Mjob - mother's job ( \"teacher\", \"health\" care related, civil \"services\" (e.g. administrative\n",
    "or police), \"at_home\" or \"other\")\n",
    "10. Fjob - father's job (\"teacher\", \"health\" care related, civil \"services\" (e.g. administrative or\n",
    "police), \"at_home\" or \"other\")\n",
    "11. reason - reason to choose this school (close to \"home\", school \"reputation\", \"course\"\n",
    "preference or \"other\")\n",
    "12. guardian - student's guardian (\"mother\", \"father\" or \"other\")\n",
    "13. traveltime - home to school travel time (1 - <15 min., 2 - 15 to 30 min., 3 - 30 min. to 1\n",
    "hour, or 4 - >1 hour)\n",
    "14. studytime - weekly study time (1 - <2 hours, 2 - 2 to 5 hours, 3 - 5 to 10 hours, or 4 - >10\n",
    "hours)\n",
    "15. failures - number of past class failures (n if 1<=n<3, else 4)\n",
    "16. schoolsup - extra educational support (yes or no)\n",
    "17. famsup - family educational support (yes or no)\n",
    "18. paid - extra paid classes within the course subject (Math or Portuguese) (yes or no)\n",
    "19. activities - extra-curricular activities (yes or no)\n",
    "20. nursery - attended nursery school (yes or no)\n",
    "21. higher - wants to take higher education (yes or no)\n",
    "22. internet - Internet access at home (yes or no)\n",
    "23. romantic - with a romantic relationship (yes or no)\n",
    "24. famrel - quality of family relationships (from 1 - very bad to 5 - excellent)\n",
    "25. freetime - free time after school (from 1 - very low to 5 - very high)\n",
    "26. goout - going out with friends (from 1 - very low to 5 - very high)\n",
    "27. Dalc - workday alcohol consumption (from 1 - very low to 5 - very high)\n",
    "28. Walc - weekend alcohol consumption (from 1 - very low to 5 - very high)\n",
    "29. health - current health status (from 1 - very bad to 5 - very good)\n",
    "30. absences_G1 - number of school absences for G1 term (numeric)\n",
    "31. absences_G2 - number of school absences for G2 term (numeric)\n",
    "32. absences_G3 - number of school absences for G3 term (numeric)\n",
    "# These grades are related with the course (math subject):\n",
    "33. G1 - first term grade (numeric: from 0 to 20)\n",
    "34. G2 - second term grade (numeric: from 0 to 20)\n",
    "35. G3 - final grade (numeric: from 0 to 20, ← this is our output target)"
   ]
  },
  {
   "cell_type": "markdown",
   "id": "35e903c9-3d27-4aab-be4d-6aa37c85d6f2",
   "metadata": {},
   "source": [
    "### Identify the Target Attribute\n",
    "The target attributes are the numerical final grades for the students.  Since we are trying to predict the final grade of a student, we are saving the \"G3\" column as a Series named student_final_grades.  We drop the \"G3\" column from the students DataFrame and the remaining columns are the \"student_features\", which are the attributes of the students."
   ]
  },
  {
   "cell_type": "code",
   "execution_count": 4,
   "id": "0d09c54d-fc4e-4e79-b40d-3118074854b6",
   "metadata": {},
   "outputs": [],
   "source": [
    "# these are our targets \n",
    "student_final_grades = pd.Series(students[\"G3\"].copy())"
   ]
  },
  {
   "cell_type": "code",
   "execution_count": 5,
   "id": "8fcec8bb-51c9-45c0-9c2f-a06c6b51b828",
   "metadata": {},
   "outputs": [],
   "source": [
    "# these are our features\n",
    "student_features = students.drop('G3', axis=1)"
   ]
  },
  {
   "cell_type": "markdown",
   "id": "2ef53dec-157d-47a8-b533-b250e8533aed",
   "metadata": {},
   "source": [
    "### Split Data into Training and Test Set\n",
    "Scikit-learn's train_test_split function employs the student_features and student_final_grades variables to partition the data into a training set and a test set.  80% of the instances (observations) are allocated for training and 20% for testing. The random_state is set to 42 to ensure reproducibility of the results. The resulting DataFrames have the following names: X_train, X_test, y_train, and y_test."
   ]
  },
  {
   "cell_type": "code",
   "execution_count": 6,
   "id": "2b902257-61da-498c-9d25-d3670d831775",
   "metadata": {},
   "outputs": [],
   "source": [
    "from sklearn.model_selection import train_test_split\n",
    "\n",
    "# splitting data into training and test sets\n",
    "X_train, X_test, y_train, y_test = train_test_split(student_features, student_final_grades, test_size=0.2, random_state=42)"
   ]
  },
  {
   "cell_type": "markdown",
   "id": "987af6bb-2c05-4ee8-8739-8e9ce9e33f08",
   "metadata": {},
   "source": [
    "## Explore the Data:\n",
    "Exploring the data statistically and visually is vital to be able to select the most significant features/attributes for the models to make better predictions of the student's G3 final grades.  "
   ]
  },
  {
   "cell_type": "markdown",
   "id": "f9ae04f2-2ff7-4c62-8637-242d1e59785b",
   "metadata": {},
   "source": [
    "The head() function looks at an overview of the first five rows of data throughout the training features from the students dataset."
   ]
  },
  {
   "cell_type": "code",
   "execution_count": 7,
   "id": "7d87c066-eca9-4193-915b-078fc52d83e1",
   "metadata": {},
   "outputs": [
    {
     "data": {
      "text/html": [
       "<div>\n",
       "<style scoped>\n",
       "    .dataframe tbody tr th:only-of-type {\n",
       "        vertical-align: middle;\n",
       "    }\n",
       "\n",
       "    .dataframe tbody tr th {\n",
       "        vertical-align: top;\n",
       "    }\n",
       "\n",
       "    .dataframe thead th {\n",
       "        text-align: right;\n",
       "    }\n",
       "</style>\n",
       "<table border=\"1\" class=\"dataframe\">\n",
       "  <thead>\n",
       "    <tr style=\"text-align: right;\">\n",
       "      <th></th>\n",
       "      <th>school</th>\n",
       "      <th>sex</th>\n",
       "      <th>age</th>\n",
       "      <th>address</th>\n",
       "      <th>famsize</th>\n",
       "      <th>Pstatus</th>\n",
       "      <th>Medu</th>\n",
       "      <th>Fedu</th>\n",
       "      <th>Mjob</th>\n",
       "      <th>Fjob</th>\n",
       "      <th>...</th>\n",
       "      <th>freetime</th>\n",
       "      <th>goout</th>\n",
       "      <th>Dalc</th>\n",
       "      <th>Walc</th>\n",
       "      <th>health</th>\n",
       "      <th>absences_G1</th>\n",
       "      <th>absences_G2</th>\n",
       "      <th>absences_G3</th>\n",
       "      <th>G1</th>\n",
       "      <th>G2</th>\n",
       "    </tr>\n",
       "  </thead>\n",
       "  <tbody>\n",
       "    <tr>\n",
       "      <th>181</th>\n",
       "      <td>GP</td>\n",
       "      <td>M</td>\n",
       "      <td>16.0</td>\n",
       "      <td>U</td>\n",
       "      <td>GT3</td>\n",
       "      <td>T</td>\n",
       "      <td>3</td>\n",
       "      <td>3</td>\n",
       "      <td>services</td>\n",
       "      <td>other</td>\n",
       "      <td>...</td>\n",
       "      <td>2</td>\n",
       "      <td>3</td>\n",
       "      <td>1</td>\n",
       "      <td>2</td>\n",
       "      <td>3</td>\n",
       "      <td>0.0</td>\n",
       "      <td>0.0</td>\n",
       "      <td>2.0</td>\n",
       "      <td>12</td>\n",
       "      <td>13</td>\n",
       "    </tr>\n",
       "    <tr>\n",
       "      <th>194</th>\n",
       "      <td>GP</td>\n",
       "      <td>M</td>\n",
       "      <td>16.0</td>\n",
       "      <td>U</td>\n",
       "      <td>GT3</td>\n",
       "      <td>T</td>\n",
       "      <td>2</td>\n",
       "      <td>3</td>\n",
       "      <td>other</td>\n",
       "      <td>other</td>\n",
       "      <td>...</td>\n",
       "      <td>3</td>\n",
       "      <td>3</td>\n",
       "      <td>1</td>\n",
       "      <td>1</td>\n",
       "      <td>3</td>\n",
       "      <td>0.0</td>\n",
       "      <td>0.0</td>\n",
       "      <td>0.0</td>\n",
       "      <td>13</td>\n",
       "      <td>14</td>\n",
       "    </tr>\n",
       "    <tr>\n",
       "      <th>173</th>\n",
       "      <td>GP</td>\n",
       "      <td>F</td>\n",
       "      <td>16.0</td>\n",
       "      <td>U</td>\n",
       "      <td>GT3</td>\n",
       "      <td>T</td>\n",
       "      <td>1</td>\n",
       "      <td>3</td>\n",
       "      <td>at_home</td>\n",
       "      <td>services</td>\n",
       "      <td>...</td>\n",
       "      <td>3</td>\n",
       "      <td>5</td>\n",
       "      <td>1</td>\n",
       "      <td>1</td>\n",
       "      <td>3</td>\n",
       "      <td>0.0</td>\n",
       "      <td>0.0</td>\n",
       "      <td>0.0</td>\n",
       "      <td>8</td>\n",
       "      <td>7</td>\n",
       "    </tr>\n",
       "    <tr>\n",
       "      <th>63</th>\n",
       "      <td>GP</td>\n",
       "      <td>F</td>\n",
       "      <td>16.0</td>\n",
       "      <td>U</td>\n",
       "      <td>GT3</td>\n",
       "      <td>T</td>\n",
       "      <td>4</td>\n",
       "      <td>3</td>\n",
       "      <td>teacher</td>\n",
       "      <td>health</td>\n",
       "      <td>...</td>\n",
       "      <td>4</td>\n",
       "      <td>4</td>\n",
       "      <td>2</td>\n",
       "      <td>4</td>\n",
       "      <td>4</td>\n",
       "      <td>0.0</td>\n",
       "      <td>0.0</td>\n",
       "      <td>2.0</td>\n",
       "      <td>10</td>\n",
       "      <td>9</td>\n",
       "    </tr>\n",
       "    <tr>\n",
       "      <th>253</th>\n",
       "      <td>GP</td>\n",
       "      <td>M</td>\n",
       "      <td>16.0</td>\n",
       "      <td>R</td>\n",
       "      <td>GT3</td>\n",
       "      <td>T</td>\n",
       "      <td>2</td>\n",
       "      <td>1</td>\n",
       "      <td>other</td>\n",
       "      <td>other</td>\n",
       "      <td>...</td>\n",
       "      <td>3</td>\n",
       "      <td>2</td>\n",
       "      <td>1</td>\n",
       "      <td>3</td>\n",
       "      <td>3</td>\n",
       "      <td>0.0</td>\n",
       "      <td>0.0</td>\n",
       "      <td>0.0</td>\n",
       "      <td>8</td>\n",
       "      <td>9</td>\n",
       "    </tr>\n",
       "  </tbody>\n",
       "</table>\n",
       "<p>5 rows × 34 columns</p>\n",
       "</div>"
      ],
      "text/plain": [
       "    school sex   age address famsize Pstatus  Medu  Fedu      Mjob      Fjob  \\\n",
       "181     GP   M  16.0       U     GT3       T     3     3  services     other   \n",
       "194     GP   M  16.0       U     GT3       T     2     3     other     other   \n",
       "173     GP   F  16.0       U     GT3       T     1     3   at_home  services   \n",
       "63      GP   F  16.0       U     GT3       T     4     3   teacher    health   \n",
       "253     GP   M  16.0       R     GT3       T     2     1     other     other   \n",
       "\n",
       "     ... freetime goout  Dalc  Walc  health absences_G1 absences_G2  \\\n",
       "181  ...        2     3     1     2       3         0.0         0.0   \n",
       "194  ...        3     3     1     1       3         0.0         0.0   \n",
       "173  ...        3     5     1     1       3         0.0         0.0   \n",
       "63   ...        4     4     2     4       4         0.0         0.0   \n",
       "253  ...        3     2     1     3       3         0.0         0.0   \n",
       "\n",
       "    absences_G3  G1  G2  \n",
       "181         2.0  12  13  \n",
       "194         0.0  13  14  \n",
       "173         0.0   8   7  \n",
       "63          2.0  10   9  \n",
       "253         0.0   8   9  \n",
       "\n",
       "[5 rows x 34 columns]"
      ]
     },
     "execution_count": 7,
     "metadata": {},
     "output_type": "execute_result"
    }
   ],
   "source": [
    "# reviewing first five rows of features training data\n",
    "X_train.head()"
   ]
  },
  {
   "cell_type": "markdown",
   "id": "70e84ad6-c071-4e71-8bc3-ef12c25d985e",
   "metadata": {},
   "source": [
    "The describe function allows us to see descriptive statistics for the numerical features/attributes, including the average for the group, min/max values, count, and quartile distribution.  Upon reviewing the data, 'absences_G1' and 'absences G2' are exactly the same, so further analysis is needed. "
   ]
  },
  {
   "cell_type": "code",
   "execution_count": 8,
   "id": "fe9decbe-244c-4b90-94c5-4857677d6ef4",
   "metadata": {
    "scrolled": true
   },
   "outputs": [
    {
     "data": {
      "text/html": [
       "<div>\n",
       "<style scoped>\n",
       "    .dataframe tbody tr th:only-of-type {\n",
       "        vertical-align: middle;\n",
       "    }\n",
       "\n",
       "    .dataframe tbody tr th {\n",
       "        vertical-align: top;\n",
       "    }\n",
       "\n",
       "    .dataframe thead th {\n",
       "        text-align: right;\n",
       "    }\n",
       "</style>\n",
       "<table border=\"1\" class=\"dataframe\">\n",
       "  <thead>\n",
       "    <tr style=\"text-align: right;\">\n",
       "      <th></th>\n",
       "      <th>age</th>\n",
       "      <th>Medu</th>\n",
       "      <th>Fedu</th>\n",
       "      <th>traveltime</th>\n",
       "      <th>studytime</th>\n",
       "      <th>failures</th>\n",
       "      <th>famrel</th>\n",
       "      <th>freetime</th>\n",
       "      <th>goout</th>\n",
       "      <th>Dalc</th>\n",
       "      <th>Walc</th>\n",
       "      <th>health</th>\n",
       "      <th>absences_G1</th>\n",
       "      <th>absences_G2</th>\n",
       "      <th>absences_G3</th>\n",
       "      <th>G1</th>\n",
       "      <th>G2</th>\n",
       "    </tr>\n",
       "  </thead>\n",
       "  <tbody>\n",
       "    <tr>\n",
       "      <th>count</th>\n",
       "      <td>305.000000</td>\n",
       "      <td>316.000000</td>\n",
       "      <td>316.000000</td>\n",
       "      <td>316.000000</td>\n",
       "      <td>316.000000</td>\n",
       "      <td>316.000000</td>\n",
       "      <td>316.000000</td>\n",
       "      <td>316.000000</td>\n",
       "      <td>316.000000</td>\n",
       "      <td>316.000000</td>\n",
       "      <td>316.000000</td>\n",
       "      <td>316.000000</td>\n",
       "      <td>305.000000</td>\n",
       "      <td>305.000000</td>\n",
       "      <td>305.000000</td>\n",
       "      <td>316.000000</td>\n",
       "      <td>316.000000</td>\n",
       "    </tr>\n",
       "    <tr>\n",
       "      <th>mean</th>\n",
       "      <td>16.747541</td>\n",
       "      <td>2.734177</td>\n",
       "      <td>2.544304</td>\n",
       "      <td>1.430380</td>\n",
       "      <td>2.047468</td>\n",
       "      <td>0.335443</td>\n",
       "      <td>3.943038</td>\n",
       "      <td>3.218354</td>\n",
       "      <td>3.161392</td>\n",
       "      <td>1.500000</td>\n",
       "      <td>2.344937</td>\n",
       "      <td>3.518987</td>\n",
       "      <td>0.704918</td>\n",
       "      <td>0.704918</td>\n",
       "      <td>4.488525</td>\n",
       "      <td>10.933544</td>\n",
       "      <td>10.651899</td>\n",
       "    </tr>\n",
       "    <tr>\n",
       "      <th>std</th>\n",
       "      <td>1.274188</td>\n",
       "      <td>1.080375</td>\n",
       "      <td>1.078476</td>\n",
       "      <td>0.688842</td>\n",
       "      <td>0.836258</td>\n",
       "      <td>0.735588</td>\n",
       "      <td>0.885464</td>\n",
       "      <td>1.020323</td>\n",
       "      <td>1.119480</td>\n",
       "      <td>0.903257</td>\n",
       "      <td>1.296395</td>\n",
       "      <td>1.410714</td>\n",
       "      <td>1.373435</td>\n",
       "      <td>1.373435</td>\n",
       "      <td>5.824238</td>\n",
       "      <td>3.216823</td>\n",
       "      <td>3.755930</td>\n",
       "    </tr>\n",
       "    <tr>\n",
       "      <th>min</th>\n",
       "      <td>15.000000</td>\n",
       "      <td>0.000000</td>\n",
       "      <td>0.000000</td>\n",
       "      <td>1.000000</td>\n",
       "      <td>1.000000</td>\n",
       "      <td>0.000000</td>\n",
       "      <td>1.000000</td>\n",
       "      <td>1.000000</td>\n",
       "      <td>1.000000</td>\n",
       "      <td>1.000000</td>\n",
       "      <td>1.000000</td>\n",
       "      <td>1.000000</td>\n",
       "      <td>0.000000</td>\n",
       "      <td>0.000000</td>\n",
       "      <td>0.000000</td>\n",
       "      <td>5.000000</td>\n",
       "      <td>0.000000</td>\n",
       "    </tr>\n",
       "    <tr>\n",
       "      <th>25%</th>\n",
       "      <td>16.000000</td>\n",
       "      <td>2.000000</td>\n",
       "      <td>2.000000</td>\n",
       "      <td>1.000000</td>\n",
       "      <td>1.000000</td>\n",
       "      <td>0.000000</td>\n",
       "      <td>4.000000</td>\n",
       "      <td>3.000000</td>\n",
       "      <td>2.000000</td>\n",
       "      <td>1.000000</td>\n",
       "      <td>1.000000</td>\n",
       "      <td>3.000000</td>\n",
       "      <td>0.000000</td>\n",
       "      <td>0.000000</td>\n",
       "      <td>0.000000</td>\n",
       "      <td>8.000000</td>\n",
       "      <td>9.000000</td>\n",
       "    </tr>\n",
       "    <tr>\n",
       "      <th>50%</th>\n",
       "      <td>17.000000</td>\n",
       "      <td>3.000000</td>\n",
       "      <td>3.000000</td>\n",
       "      <td>1.000000</td>\n",
       "      <td>2.000000</td>\n",
       "      <td>0.000000</td>\n",
       "      <td>4.000000</td>\n",
       "      <td>3.000000</td>\n",
       "      <td>3.000000</td>\n",
       "      <td>1.000000</td>\n",
       "      <td>2.000000</td>\n",
       "      <td>4.000000</td>\n",
       "      <td>0.000000</td>\n",
       "      <td>0.000000</td>\n",
       "      <td>4.000000</td>\n",
       "      <td>11.000000</td>\n",
       "      <td>11.000000</td>\n",
       "    </tr>\n",
       "    <tr>\n",
       "      <th>75%</th>\n",
       "      <td>18.000000</td>\n",
       "      <td>4.000000</td>\n",
       "      <td>3.000000</td>\n",
       "      <td>2.000000</td>\n",
       "      <td>2.000000</td>\n",
       "      <td>0.000000</td>\n",
       "      <td>5.000000</td>\n",
       "      <td>4.000000</td>\n",
       "      <td>4.000000</td>\n",
       "      <td>2.000000</td>\n",
       "      <td>3.000000</td>\n",
       "      <td>5.000000</td>\n",
       "      <td>1.000000</td>\n",
       "      <td>1.000000</td>\n",
       "      <td>6.000000</td>\n",
       "      <td>13.000000</td>\n",
       "      <td>13.000000</td>\n",
       "    </tr>\n",
       "    <tr>\n",
       "      <th>max</th>\n",
       "      <td>22.000000</td>\n",
       "      <td>4.000000</td>\n",
       "      <td>4.000000</td>\n",
       "      <td>4.000000</td>\n",
       "      <td>4.000000</td>\n",
       "      <td>3.000000</td>\n",
       "      <td>5.000000</td>\n",
       "      <td>5.000000</td>\n",
       "      <td>5.000000</td>\n",
       "      <td>5.000000</td>\n",
       "      <td>5.000000</td>\n",
       "      <td>5.000000</td>\n",
       "      <td>12.000000</td>\n",
       "      <td>12.000000</td>\n",
       "      <td>51.000000</td>\n",
       "      <td>19.000000</td>\n",
       "      <td>19.000000</td>\n",
       "    </tr>\n",
       "  </tbody>\n",
       "</table>\n",
       "</div>"
      ],
      "text/plain": [
       "              age        Medu        Fedu  traveltime   studytime    failures  \\\n",
       "count  305.000000  316.000000  316.000000  316.000000  316.000000  316.000000   \n",
       "mean    16.747541    2.734177    2.544304    1.430380    2.047468    0.335443   \n",
       "std      1.274188    1.080375    1.078476    0.688842    0.836258    0.735588   \n",
       "min     15.000000    0.000000    0.000000    1.000000    1.000000    0.000000   \n",
       "25%     16.000000    2.000000    2.000000    1.000000    1.000000    0.000000   \n",
       "50%     17.000000    3.000000    3.000000    1.000000    2.000000    0.000000   \n",
       "75%     18.000000    4.000000    3.000000    2.000000    2.000000    0.000000   \n",
       "max     22.000000    4.000000    4.000000    4.000000    4.000000    3.000000   \n",
       "\n",
       "           famrel    freetime       goout        Dalc        Walc      health  \\\n",
       "count  316.000000  316.000000  316.000000  316.000000  316.000000  316.000000   \n",
       "mean     3.943038    3.218354    3.161392    1.500000    2.344937    3.518987   \n",
       "std      0.885464    1.020323    1.119480    0.903257    1.296395    1.410714   \n",
       "min      1.000000    1.000000    1.000000    1.000000    1.000000    1.000000   \n",
       "25%      4.000000    3.000000    2.000000    1.000000    1.000000    3.000000   \n",
       "50%      4.000000    3.000000    3.000000    1.000000    2.000000    4.000000   \n",
       "75%      5.000000    4.000000    4.000000    2.000000    3.000000    5.000000   \n",
       "max      5.000000    5.000000    5.000000    5.000000    5.000000    5.000000   \n",
       "\n",
       "       absences_G1  absences_G2  absences_G3          G1          G2  \n",
       "count   305.000000   305.000000   305.000000  316.000000  316.000000  \n",
       "mean      0.704918     0.704918     4.488525   10.933544   10.651899  \n",
       "std       1.373435     1.373435     5.824238    3.216823    3.755930  \n",
       "min       0.000000     0.000000     0.000000    5.000000    0.000000  \n",
       "25%       0.000000     0.000000     0.000000    8.000000    9.000000  \n",
       "50%       0.000000     0.000000     4.000000   11.000000   11.000000  \n",
       "75%       1.000000     1.000000     6.000000   13.000000   13.000000  \n",
       "max      12.000000    12.000000    51.000000   19.000000   19.000000  "
      ]
     },
     "execution_count": 8,
     "metadata": {},
     "output_type": "execute_result"
    }
   ],
   "source": [
    "# checking descriptive statistics for each feature/attribute in the training dataset\n",
    "X_train.describe()"
   ]
  },
  {
   "cell_type": "markdown",
   "id": "e8fd2f47-e703-4d15-8de0-68652cc73c62",
   "metadata": {},
   "source": [
    "It is important to note the average and standard deviation of the target training set as 10.33 and 4.59 respectively.  An average of 10.33 is the US equivalent to a C average."
   ]
  },
  {
   "cell_type": "code",
   "execution_count": 9,
   "id": "e156328b-fff6-45b3-ab55-ea3b63d459ad",
   "metadata": {},
   "outputs": [
    {
     "data": {
      "text/plain": [
       "count    316.000000\n",
       "mean      10.325949\n",
       "std        4.590337\n",
       "min        0.000000\n",
       "25%        8.000000\n",
       "50%       11.000000\n",
       "75%       13.000000\n",
       "max       20.000000\n",
       "Name: G3, dtype: float64"
      ]
     },
     "execution_count": 9,
     "metadata": {},
     "output_type": "execute_result"
    }
   ],
   "source": [
    "# checking descriptive statistics for target (G3 final grades) training set\n",
    "y_train.describe()"
   ]
  },
  {
   "cell_type": "markdown",
   "id": "edde5ba2-e4df-4e33-8d55-fa7d0d362ecd",
   "metadata": {},
   "source": [
    "Gabriel Pereira (GP) students represent 89% of the dataset and Mousinho da Silveira (MS) students only represent 11% of the dataset.  Additional information as to why the percentages are so vastly different would be luminary to analyze results properly."
   ]
  },
  {
   "cell_type": "code",
   "execution_count": 10,
   "id": "a2606aae-2502-4758-94b2-52ad134d2905",
   "metadata": {},
   "outputs": [
    {
     "data": {
      "text/plain": [
       "school\n",
       "GP    0.892405\n",
       "MS    0.107595\n",
       "Name: proportion, dtype: float64"
      ]
     },
     "execution_count": 10,
     "metadata": {},
     "output_type": "execute_result"
    }
   ],
   "source": [
    "#  checking value count percentages for \"school\" feature\n",
    "X_train['school'].value_counts(normalize=True)"
   ]
  },
  {
   "cell_type": "markdown",
   "id": "d7d6998b-8665-4abd-aa16-d42afc6713bf",
   "metadata": {},
   "source": [
    "78% of the students in this dataset have an \"urban\" home address, while 22% have a \"rural\" home address.  Will be exploring further to see if there is a difference in scholastic performance between urban and rural students."
   ]
  },
  {
   "cell_type": "code",
   "execution_count": 11,
   "id": "8b54af89-12e2-419b-bb33-86e2e77ca0b5",
   "metadata": {
    "scrolled": true
   },
   "outputs": [
    {
     "data": {
      "text/plain": [
       "address\n",
       "U    0.781646\n",
       "R    0.218354\n",
       "Name: proportion, dtype: float64"
      ]
     },
     "execution_count": 11,
     "metadata": {},
     "output_type": "execute_result"
    }
   ],
   "source": [
    "#  checking value count percentages for \"address\" feature\n",
    "X_train['address'].value_counts(normalize=True)"
   ]
  },
  {
   "cell_type": "markdown",
   "id": "47e50e61-b04a-4e98-9784-b7cd66a587d0",
   "metadata": {},
   "source": [
    "The following shows the percentage breakdown of \"traveltime\" which is a categorical feature/attribute.  Will be exploring further to see if there is a difference in scholastic performance between students with longer travel times to school."
   ]
  },
  {
   "cell_type": "code",
   "execution_count": 12,
   "id": "de3789cf-be23-4ce0-959b-5c44918bcba1",
   "metadata": {
    "scrolled": true
   },
   "outputs": [
    {
     "data": {
      "text/plain": [
       "traveltime\n",
       "1    0.664557\n",
       "2    0.259494\n",
       "3    0.056962\n",
       "4    0.018987\n",
       "Name: proportion, dtype: float64"
      ]
     },
     "execution_count": 12,
     "metadata": {},
     "output_type": "execute_result"
    }
   ],
   "source": [
    "#  checking value count percentages for \"traveltime\" feature\n",
    "X_train['traveltime'].value_counts(normalize=True)"
   ]
  },
  {
   "cell_type": "markdown",
   "id": "f82e9fe4-64e7-4286-b056-bbdcff0bce18",
   "metadata": {},
   "source": [
    "### Visualizations\n",
    "Visualizations are crucial in exploratory data analysis because they help: understand data distributions, identify patterns and potential outliers which is necessary to make informed decisions."
   ]
  },
  {
   "cell_type": "markdown",
   "id": "2ee04369-fc13-43bc-9458-f9ce58a7925e",
   "metadata": {},
   "source": [
    "Using matplotlib library to plot histograms of the numerical datatype columns within the training features and seeing the frequency distribution of each group. Upon inspection, histograms 2-12 have been encoded, meaning that their single digit numerical values represent categorical data."
   ]
  },
  {
   "cell_type": "code",
   "execution_count": 13,
   "id": "7ca6d9d4-f63c-4b8b-9ad9-736b9d884558",
   "metadata": {
    "scrolled": true
   },
   "outputs": [
    {
     "data": {
      "image/png": "[encoded data removed]",
      "text/plain": [
       "<Figure size 1300x1000 with 20 Axes>"
      ]
     },
     "metadata": {},
     "output_type": "display_data"
    }
   ],
   "source": [
    "import matplotlib.pyplot as plt\n",
    "\n",
    "# plotting numerical features as histograms \n",
    "X_train.hist(bins=20, figsize=(13, 10), color = 'cyan', grid = False)\n",
    "plt.tight_layout()\n",
    "plt.show()"
   ]
  },
  {
   "cell_type": "markdown",
   "id": "79a2aab1-ea8b-49ef-9afa-1c8e647bdac6",
   "metadata": {},
   "source": [
    "Boxplots provide a wealth of knowledge about the distribution of the student dataset at a quick glance.  They display the median (center line in box), the interquartile range (IQR), which is the difference between the third quartile (Q3-top edge of box) and the first quartile (Q1-bottom edge of box), along with any potential outliers (dots outside of boxplot) for comparing groups/categories.  Below are boxplots for all the categorical features for comparison (researched 'stackoverflow' for help to create the iteration).  "
   ]
  },
  {
   "cell_type": "code",
   "execution_count": 14,
   "id": "fbff44d3-6572-41a4-ab45-f10d810851dd",
   "metadata": {},
   "outputs": [
    {
     "data": {
      "image/png": "[encoded data removed]",
      "text/plain": [
       "<Figure size 600x400 with 1 Axes>"
      ]
     },
     "metadata": {},
     "output_type": "display_data"
    },
    {
     "data": {
      "image/png": "[encoded data removed]",
      "text/plain": [
       "<Figure size 600x400 with 1 Axes>"
      ]
     },
     "metadata": {},
     "output_type": "display_data"
    },
    {
     "data": {
      "image/png": "[encoded data removed]",
      "text/plain": [
       "<Figure size 600x400 with 1 Axes>"
      ]
     },
     "metadata": {},
     "output_type": "display_data"
    },
    {
     "data": {
      "image/png": "[encoded data removed]",
      "text/plain": [
       "<Figure size 600x400 with 1 Axes>"
      ]
     },
     "metadata": {},
     "output_type": "display_data"
    },
    {
     "data": {
      "image/png": "[encoded data removed]",
      "text/plain": [
       "<Figure size 600x400 with 1 Axes>"
      ]
     },
     "metadata": {},
     "output_type": "display_data"
    },
    {
     "data": {
      "image/png": "[encoded data removed]",
      "text/plain": [
       "<Figure size 600x400 with 1 Axes>"
      ]
     },
     "metadata": {},
     "output_type": "display_data"
    },
    {
     "data": {
      "image/png": "[encoded data removed]",
      "text/plain": [
       "<Figure size 600x400 with 1 Axes>"
      ]
     },
     "metadata": {},
     "output_type": "display_data"
    },
    {
     "data": {
      "image/png": "[encoded data removed]",
      "text/plain": [
       "<Figure size 600x400 with 1 Axes>"
      ]
     },
     "metadata": {},
     "output_type": "display_data"
    },
    {
     "data": {
      "image/png": "[encoded data removed]",
      "text/plain": [
       "<Figure size 600x400 with 1 Axes>"
      ]
     },
     "metadata": {},
     "output_type": "display_data"
    },
    {
     "data": {
      "image/png": "[encoded data removed]",
      "text/plain": [
       "<Figure size 600x400 with 1 Axes>"
      ]
     },
     "metadata": {},
     "output_type": "display_data"
    },
    {
     "data": {
      "image/png": "[encoded data removed]",
      "text/plain": [
       "<Figure size 600x400 with 1 Axes>"
      ]
     },
     "metadata": {},
     "output_type": "display_data"
    },
    {
     "data": {
      "image/png": "[encoded data removed]",
      "text/plain": [
       "<Figure size 600x400 with 1 Axes>"
      ]
     },
     "metadata": {},
     "output_type": "display_data"
    },
    {
     "data": {
      "image/png": "[encoded data removed]",
      "text/plain": [
       "<Figure size 600x400 with 1 Axes>"
      ]
     },
     "metadata": {},
     "output_type": "display_data"
    },
    {
     "data": {
      "image/png": "[encoded data removed]",
      "text/plain": [
       "<Figure size 600x400 with 1 Axes>"
      ]
     },
     "metadata": {},
     "output_type": "display_data"
    },
    {
     "data": {
      "image/png": "[encoded data removed]",
      "text/plain": [
       "<Figure size 600x400 with 1 Axes>"
      ]
     },
     "metadata": {},
     "output_type": "display_data"
    },
    {
     "data": {
      "image/png": "[encoded data removed]",
      "text/plain": [
       "<Figure size 600x400 with 1 Axes>"
      ]
     },
     "metadata": {},
     "output_type": "display_data"
    },
    {
     "data": {
      "image/png": "[encoded data removed]",
      "text/plain": [
       "<Figure size 600x400 with 1 Axes>"
      ]
     },
     "metadata": {},
     "output_type": "display_data"
    }
   ],
   "source": [
    "import seaborn as sns\n",
    "\n",
    "# iterating through training data columns and create a boxplot for each categorical comparison\n",
    "for i in X_train.columns:\n",
    "    if X_train[i].dtype == 'object':\n",
    "        plt.figure(figsize=(6,4)),\n",
    "        sns.boxplot(x=i, y='G3', data=students, hue=i, palette='Set2')\n",
    "        plt.tight_layout()\n",
    "        plt.show()"
   ]
  },
  {
   "cell_type": "markdown",
   "id": "07105ab0-1949-4262-89f0-434bacb4b4f6",
   "metadata": {},
   "source": [
    "The categorical features that will be selected for further analysis due to their initial differences in the above boxplots and the ability to create additional assistance to these students are \"traveltime\", \"address\", \"internet\", and \"higher\"."
   ]
  },
  {
   "cell_type": "markdown",
   "id": "7a0eaeb2-9c66-437e-a392-58726df35382",
   "metadata": {},
   "source": [
    "The following boxplots display that with increased travel times to and from school, the overall final grade performance decreases.  50% of the students with travel times of more than 15 minutes were failing.  When the travel time is more than an hour, all (100%) of those students have a final grade of a low C or is failing.  Every category has outliers of students that have a zero as a final grade, which most likely are students that did not attend class and should be evaluated further on their own.  Additional resources supporting shorter commute times for students could improve scholastic performance for students with travel times of greater than 15 minutes.   "
   ]
  },
  {
   "cell_type": "code",
   "execution_count": 15,
   "id": "5dfb87e9-64e2-495b-92ef-e292715c0625",
   "metadata": {},
   "outputs": [
    {
     "data": {
      "image/png": "[encoded data removed]",
      "text/plain": [
       "<Figure size 640x480 with 1 Axes>"
      ]
     },
     "metadata": {},
     "output_type": "display_data"
    }
   ],
   "source": [
    "# creating boxplots to visualize the difference in 'G3' grades for student's travel times\n",
    "sns.boxplot(x='traveltime', y='G3', data=students, color='cyan')\n",
    "plt.title('Distribution of G3 Grades for Different Travel Times')\n",
    "plt.xlabel('Travel Time')\n",
    "plt.ylabel('G3 Grades')\n",
    "plt.show()"
   ]
  },
  {
   "cell_type": "markdown",
   "id": "583eff5b-3413-4bda-8c4d-bb8e2bc25a69",
   "metadata": {},
   "source": [
    "In researching \"traveltime\" further with additional boxplots below with urban students in green and rural students represented in orange, rural students perform consistently worse than urban students at the 75% quartile mark across all travel times.  This data supports the need for additional resources (such as additional bus routes) for rural students to reduce their travel times to and from school which could potentially help improve their scholastic performances."
   ]
  },
  {
   "cell_type": "code",
   "execution_count": 16,
   "id": "d6b112a3-4ff4-415b-86e3-cc53636fe1b2",
   "metadata": {
    "scrolled": true
   },
   "outputs": [
    {
     "data": {
      "image/png": "[encoded data removed]",
      "text/plain": [
       "<Figure size 640x480 with 1 Axes>"
      ]
     },
     "metadata": {},
     "output_type": "display_data"
    }
   ],
   "source": [
    "# creating boxplots to visualize the difference in 'G3' grades for rural and urban student's travel times\n",
    "sns.boxplot(x='traveltime', y='G3', hue='address', data=students, palette='Set2')\n",
    "plt.title('Travel Time Comparison of G3 Grades for Rural and Urban Students ')\n",
    "plt.xlabel('Travel Times')\n",
    "plt.ylabel('G3 Grades')\n",
    "plt.show()"
   ]
  },
  {
   "cell_type": "markdown",
   "id": "1cf1daf7-cbb8-4e89-a713-a3631481d891",
   "metadata": {},
   "source": [
    "16.1% of students do not have internet access at home and the following boxplot shows that those students perform worse scholastically in general than the students who have internet access at home.  "
   ]
  },
  {
   "cell_type": "code",
   "execution_count": 17,
   "id": "2353c832-ded1-45e1-a048-49c1b92bd372",
   "metadata": {
    "scrolled": true
   },
   "outputs": [
    {
     "data": {
      "text/plain": [
       "internet\n",
       "yes    0.838608\n",
       "no     0.161392\n",
       "Name: proportion, dtype: float64"
      ]
     },
     "execution_count": 17,
     "metadata": {},
     "output_type": "execute_result"
    }
   ],
   "source": [
    "# checking value count percentages for \"internet\" feature\n",
    "X_train['internet'].value_counts(normalize=True)"
   ]
  },
  {
   "cell_type": "markdown",
   "id": "3aa139c3-deb0-4285-b296-9d2fda02cf6f",
   "metadata": {},
   "source": [
    "As illustrated by the boxplots, the students without internet access at home performed scholastically worse overall than the students who had access to internet at home.  75% of students that did not have internet access at home had a final grade of a low C or were failing, with 50% of them outright failing.  Additional resources to provide access to internet to the students that lack it at home may improve their scholastic performance."
   ]
  },
  {
   "cell_type": "code",
   "execution_count": 18,
   "id": "89831789-65c8-47cc-844f-2c146920ced2",
   "metadata": {
    "scrolled": true
   },
   "outputs": [
    {
     "data": {
      "image/png": "[encoded data removed]",
      "text/plain": [
       "<Figure size 640x480 with 1 Axes>"
      ]
     },
     "metadata": {},
     "output_type": "display_data"
    }
   ],
   "source": [
    "# creating boxplots to visualize the difference in grades between students internet access\n",
    "sns.boxplot(x='internet', y='G3', data=students, color='cyan')\n",
    "plt.title('Comparison of G3 Grades for Student Internet Access')\n",
    "plt.xlabel('Have Internet at Home')\n",
    "plt.ylabel('G3 Grades')\n",
    "plt.show()"
   ]
  },
  {
   "cell_type": "markdown",
   "id": "cad3996a-01e4-4d65-a5e0-cf943ef728ac",
   "metadata": {},
   "source": [
    "5.7% of students do not want to take higher education and of those students, as displayed in the boxplot, approximately 75% of them have failing G3 final grades.  Since a majority of this group of students are failing additional resources such as educational outreach programs could prove beneficial to those student's scholastic performance.  "
   ]
  },
  {
   "cell_type": "code",
   "execution_count": 19,
   "id": "55b4ce3b-c22d-4f57-b24a-9185a97c1daa",
   "metadata": {
    "scrolled": true
   },
   "outputs": [
    {
     "data": {
      "text/plain": [
       "higher\n",
       "yes    0.943038\n",
       "no     0.056962\n",
       "Name: proportion, dtype: float64"
      ]
     },
     "execution_count": 19,
     "metadata": {},
     "output_type": "execute_result"
    }
   ],
   "source": [
    "#  checking value count percentages for \"higher\" feature\n",
    "X_train['higher'].value_counts(normalize=True)"
   ]
  },
  {
   "cell_type": "code",
   "execution_count": 20,
   "id": "999408e3-79be-44ce-ab7a-61c3fa4a485a",
   "metadata": {
    "scrolled": true
   },
   "outputs": [
    {
     "data": {
      "image/png": "[encoded data removed]",
      "text/plain": [
       "<Figure size 640x480 with 1 Axes>"
      ]
     },
     "metadata": {},
     "output_type": "display_data"
    }
   ],
   "source": [
    "# creating boxplots comparing students who want higher education and their final grades vs students who don't\n",
    "sns.boxplot(x='higher', y='G3', data=students, color='cyan')\n",
    "plt.title('Comparison of G3 Grades for Higher Education')\n",
    "plt.xlabel('Wants Higher Education')\n",
    "plt.ylabel('G3 Grades')\n",
    "plt.show()"
   ]
  },
  {
   "cell_type": "markdown",
   "id": "a5bb551e-8779-44d1-9405-988121bef3cc",
   "metadata": {},
   "source": [
    "### Correlations Between Attributes\n",
    "The following code block uses the .corr() function to compute the pairwise correlation of columns, resulting in a correlation matrix where each cell has the correlation coefficient.\n",
    "The correlation coefficient ranges from -1 to 1, where: 1 is a perfect positive linear relationship, -1 is a perfect negative linear relationship, and 0 is no linear relationship.\n",
    "\n",
    "As expected, the target attribute, G3 final grades, has a strong positive linear relationship with attributes G1 (0.8) and G2 (0.9) grade terms in the correlation matrix below."
   ]
  },
  {
   "cell_type": "code",
   "execution_count": 21,
   "id": "f18fe70a-8740-4d04-aee9-886269d1ee48",
   "metadata": {
    "scrolled": true
   },
   "outputs": [
    {
     "data": {
      "text/html": [
       "<div>\n",
       "<style scoped>\n",
       "    .dataframe tbody tr th:only-of-type {\n",
       "        vertical-align: middle;\n",
       "    }\n",
       "\n",
       "    .dataframe tbody tr th {\n",
       "        vertical-align: top;\n",
       "    }\n",
       "\n",
       "    .dataframe thead th {\n",
       "        text-align: right;\n",
       "    }\n",
       "</style>\n",
       "<table border=\"1\" class=\"dataframe\">\n",
       "  <thead>\n",
       "    <tr style=\"text-align: right;\">\n",
       "      <th></th>\n",
       "      <th>absences_G1</th>\n",
       "      <th>absences_G2</th>\n",
       "      <th>absences_G3</th>\n",
       "      <th>G1</th>\n",
       "      <th>G2</th>\n",
       "      <th>G3</th>\n",
       "    </tr>\n",
       "  </thead>\n",
       "  <tbody>\n",
       "    <tr>\n",
       "      <th>absences_G1</th>\n",
       "      <td>1.000000</td>\n",
       "      <td>1.000000</td>\n",
       "      <td>0.954753</td>\n",
       "      <td>-0.026935</td>\n",
       "      <td>-0.035119</td>\n",
       "      <td>0.012485</td>\n",
       "    </tr>\n",
       "    <tr>\n",
       "      <th>absences_G2</th>\n",
       "      <td>1.000000</td>\n",
       "      <td>1.000000</td>\n",
       "      <td>0.954753</td>\n",
       "      <td>-0.026935</td>\n",
       "      <td>-0.035119</td>\n",
       "      <td>0.012485</td>\n",
       "    </tr>\n",
       "    <tr>\n",
       "      <th>absences_G3</th>\n",
       "      <td>0.954753</td>\n",
       "      <td>0.954753</td>\n",
       "      <td>1.000000</td>\n",
       "      <td>-0.004900</td>\n",
       "      <td>-0.003028</td>\n",
       "      <td>0.067294</td>\n",
       "    </tr>\n",
       "    <tr>\n",
       "      <th>G1</th>\n",
       "      <td>-0.026935</td>\n",
       "      <td>-0.026935</td>\n",
       "      <td>-0.004900</td>\n",
       "      <td>1.000000</td>\n",
       "      <td>0.852118</td>\n",
       "      <td>0.801468</td>\n",
       "    </tr>\n",
       "    <tr>\n",
       "      <th>G2</th>\n",
       "      <td>-0.035119</td>\n",
       "      <td>-0.035119</td>\n",
       "      <td>-0.003028</td>\n",
       "      <td>0.852118</td>\n",
       "      <td>1.000000</td>\n",
       "      <td>0.904868</td>\n",
       "    </tr>\n",
       "    <tr>\n",
       "      <th>G3</th>\n",
       "      <td>0.012485</td>\n",
       "      <td>0.012485</td>\n",
       "      <td>0.067294</td>\n",
       "      <td>0.801468</td>\n",
       "      <td>0.904868</td>\n",
       "      <td>1.000000</td>\n",
       "    </tr>\n",
       "  </tbody>\n",
       "</table>\n",
       "</div>"
      ],
      "text/plain": [
       "             absences_G1  absences_G2  absences_G3        G1        G2  \\\n",
       "absences_G1     1.000000     1.000000     0.954753 -0.026935 -0.035119   \n",
       "absences_G2     1.000000     1.000000     0.954753 -0.026935 -0.035119   \n",
       "absences_G3     0.954753     0.954753     1.000000 -0.004900 -0.003028   \n",
       "G1             -0.026935    -0.026935    -0.004900  1.000000  0.852118   \n",
       "G2             -0.035119    -0.035119    -0.003028  0.852118  1.000000   \n",
       "G3              0.012485     0.012485     0.067294  0.801468  0.904868   \n",
       "\n",
       "                   G3  \n",
       "absences_G1  0.012485  \n",
       "absences_G2  0.012485  \n",
       "absences_G3  0.067294  \n",
       "G1           0.801468  \n",
       "G2           0.904868  \n",
       "G3           1.000000  "
      ]
     },
     "execution_count": 21,
     "metadata": {},
     "output_type": "execute_result"
    }
   ],
   "source": [
    "num_cols = ['absences_G1', 'absences_G2', 'absences_G3','G1','G2','G3']\n",
    "\n",
    "# computing correlations between numerical data\n",
    "corr_matrix = students[num_cols].corr()\n",
    "corr_matrix"
   ]
  },
  {
   "cell_type": "code",
   "execution_count": 22,
   "id": "c09ee616-4404-411c-9b3a-5a92ac3d3d8d",
   "metadata": {},
   "outputs": [
    {
     "data": {
      "text/plain": [
       "G3             1.000000\n",
       "G2             0.904868\n",
       "G1             0.801468\n",
       "absences_G3    0.067294\n",
       "absences_G1    0.012485\n",
       "absences_G2    0.012485\n",
       "Name: G3, dtype: float64"
      ]
     },
     "execution_count": 22,
     "metadata": {},
     "output_type": "execute_result"
    }
   ],
   "source": [
    "# sorting the correlation matrix values from highest correlation to G3 to lowest correlation\n",
    "corr_matrix[\"G3\"].sort_values(ascending=False)"
   ]
  },
  {
   "cell_type": "markdown",
   "id": "9a355c32-d949-4d7f-b07c-6937c212361f",
   "metadata": {},
   "source": [
    "## Prepare the Data:"
   ]
  },
  {
   "cell_type": "markdown",
   "id": "9129bf5b-6dba-453c-8d5e-b9be86cba6d7",
   "metadata": {},
   "source": [
    "### Feature Selection"
   ]
  },
  {
   "cell_type": "markdown",
   "id": "41bb9ac3-fbda-4be4-b3c4-112fa73639dd",
   "metadata": {},
   "source": [
    "Based on the exploratory analysis, the features selected were 'address', 'traveltime', 'higher', and 'internet' due to the possible programs that can be implemented with each feature to improve the scholastic performance of students that could benefit from additional resources.  Possible programs could be to offer more effective bus routes to ensure that the traveltimes of students that commute more than an hour be shortened.  Additional programs that offer an \"internet schedule\" where students without acces to the internet at home be given additional access for schoolwork, and outreach programs that discuss how important attendence and higher education is to parents and students."
   ]
  },
  {
   "cell_type": "markdown",
   "id": "f1bb8574-364d-4cb0-bd97-39877688a4e4",
   "metadata": {},
   "source": [
    "In addition, \"absences_G1\", \"absences_G2\", and \"absences_G3\" will be aggregated to create a new column named \"total_absences\" as a new feature/attribute for the models, then the models will be analyzed with and without the G1 and G2 columns to evaluate the performance of each."
   ]
  },
  {
   "cell_type": "markdown",
   "id": "26ab8e75-ac55-48c9-9f93-8bfd89b9cd79",
   "metadata": {},
   "source": [
    "### Feature Scaling on Continuous Numeric Data and Filling-In Missing Values Inside a Pipeline"
   ]
  },
  {
   "cell_type": "markdown",
   "id": "e747af21-992f-45b0-8d19-faf8514cada7",
   "metadata": {},
   "source": [
    "MinMaxScaler() is being used on the continuous numerical data instead of StandardScaler() because some features are not normally distributed and MinMaxScaler() scales features from range zero to one.  The predictions proved to be slightly better for the model's performance in the end.  "
   ]
  },
  {
   "cell_type": "markdown",
   "id": "ffa5a94c-c688-42e8-90c0-32406cc3d76e",
   "metadata": {},
   "source": [
    "SimpleImputer was also used to fill in missing values with the 'median' for numerical data and the 'most_frequent' for categorical data in their respecitve pipelines."
   ]
  },
  {
   "cell_type": "code",
   "execution_count": 23,
   "id": "19f57d28-ca7e-41f5-8534-000f1e392386",
   "metadata": {},
   "outputs": [],
   "source": [
    "from sklearn.pipeline import make_pipeline\n",
    "from sklearn.impute import SimpleImputer\n",
    "from sklearn.preprocessing import MinMaxScaler\n",
    "\n",
    "# creating a pipeline to prepare the numerical data\n",
    "num_pipeline = make_pipeline(\n",
    "    SimpleImputer(strategy=\"median\"),\n",
    "    MinMaxScaler().set_output(transform=\"pandas\")\n",
    ")"
   ]
  },
  {
   "cell_type": "markdown",
   "id": "3b50813e-0dcd-4fd3-8878-8b4b65b67554",
   "metadata": {},
   "source": [
    "### Ordinal Encoder for Binary and Ordinal Data\n",
    "OrdinalEncoder is used to preprocess and transform categorical data into a numerical format that machine learning can use for its models."
   ]
  },
  {
   "cell_type": "code",
   "execution_count": 24,
   "id": "fec93ca6-329f-4e45-be71-6ff75ba9c86b",
   "metadata": {},
   "outputs": [],
   "source": [
    "from sklearn.preprocessing import OrdinalEncoder\n",
    "\n",
    "# creating a pipeline to prepare the categorical data\n",
    "cat_pipeline = make_pipeline(\n",
    "    SimpleImputer(strategy='most_frequent'), \n",
    "    OrdinalEncoder()\n",
    ")"
   ]
  },
  {
   "cell_type": "markdown",
   "id": "edec57a1-eb3b-4d7b-85da-f36307cf54a4",
   "metadata": {},
   "source": [
    "### Column Transformer \n",
    "The following column transformer pulls the numerical and categorical attributes and runs them thru their respective numerical and categorical pipelines to preprocess the data by scaling it, filling in missing values, and encoding categorical data as needed all in a single operation."
   ]
  },
  {
   "cell_type": "code",
   "execution_count": 25,
   "id": "22040099-e829-47e1-9901-dd91c3c68eb2",
   "metadata": {
    "scrolled": true
   },
   "outputs": [],
   "source": [
    "from sklearn.compose import ColumnTransformer\n",
    "\n",
    "# lists of column names for numerical and categorical columns\n",
    "num_attributes = ['absences_G1', 'absences_G2', 'absences_G3','G1','G2']\n",
    "cat_attributes = ['address', 'traveltime', 'higher','internet']\n",
    "\n",
    "# creating full pipeline to preprocess numerical and categorical features together\n",
    "preprocessing = ColumnTransformer([\n",
    "    (\"num\", num_pipeline, num_attributes),\n",
    "    (\"cat\", cat_pipeline, cat_attributes),\n",
    "])\n",
    "\n",
    "# fits the preprocessing transformation to the training data (X_train) and then transforms X_train\n",
    "X_train_prepared = preprocessing.fit_transform(X_train)"
   ]
  },
  {
   "cell_type": "markdown",
   "id": "349f6c26-c147-4689-bc20-273ca6b81e83",
   "metadata": {},
   "source": [
    "The following code converts the X_train_prepared data into a pandas DataFrame for ease of analysis."
   ]
  },
  {
   "cell_type": "code",
   "execution_count": 26,
   "id": "02d4f2b2-86d1-4a28-8248-95b27256f51a",
   "metadata": {},
   "outputs": [
    {
     "data": {
      "text/html": [
       "<div>\n",
       "<style scoped>\n",
       "    .dataframe tbody tr th:only-of-type {\n",
       "        vertical-align: middle;\n",
       "    }\n",
       "\n",
       "    .dataframe tbody tr th {\n",
       "        vertical-align: top;\n",
       "    }\n",
       "\n",
       "    .dataframe thead th {\n",
       "        text-align: right;\n",
       "    }\n",
       "</style>\n",
       "<table border=\"1\" class=\"dataframe\">\n",
       "  <thead>\n",
       "    <tr style=\"text-align: right;\">\n",
       "      <th></th>\n",
       "      <th>absences_G1</th>\n",
       "      <th>absences_G2</th>\n",
       "      <th>absences_G3</th>\n",
       "      <th>G1</th>\n",
       "      <th>G2</th>\n",
       "      <th>address</th>\n",
       "      <th>traveltime</th>\n",
       "      <th>higher</th>\n",
       "      <th>internet</th>\n",
       "    </tr>\n",
       "  </thead>\n",
       "  <tbody>\n",
       "    <tr>\n",
       "      <th>0</th>\n",
       "      <td>0.000000</td>\n",
       "      <td>0.000000</td>\n",
       "      <td>0.039216</td>\n",
       "      <td>0.500000</td>\n",
       "      <td>0.684211</td>\n",
       "      <td>1.0</td>\n",
       "      <td>0.0</td>\n",
       "      <td>1.0</td>\n",
       "      <td>1.0</td>\n",
       "    </tr>\n",
       "    <tr>\n",
       "      <th>1</th>\n",
       "      <td>0.000000</td>\n",
       "      <td>0.000000</td>\n",
       "      <td>0.000000</td>\n",
       "      <td>0.571429</td>\n",
       "      <td>0.736842</td>\n",
       "      <td>1.0</td>\n",
       "      <td>1.0</td>\n",
       "      <td>1.0</td>\n",
       "      <td>1.0</td>\n",
       "    </tr>\n",
       "    <tr>\n",
       "      <th>2</th>\n",
       "      <td>0.000000</td>\n",
       "      <td>0.000000</td>\n",
       "      <td>0.000000</td>\n",
       "      <td>0.214286</td>\n",
       "      <td>0.368421</td>\n",
       "      <td>1.0</td>\n",
       "      <td>0.0</td>\n",
       "      <td>1.0</td>\n",
       "      <td>1.0</td>\n",
       "    </tr>\n",
       "    <tr>\n",
       "      <th>3</th>\n",
       "      <td>0.000000</td>\n",
       "      <td>0.000000</td>\n",
       "      <td>0.039216</td>\n",
       "      <td>0.357143</td>\n",
       "      <td>0.473684</td>\n",
       "      <td>1.0</td>\n",
       "      <td>0.0</td>\n",
       "      <td>1.0</td>\n",
       "      <td>1.0</td>\n",
       "    </tr>\n",
       "    <tr>\n",
       "      <th>4</th>\n",
       "      <td>0.000000</td>\n",
       "      <td>0.000000</td>\n",
       "      <td>0.000000</td>\n",
       "      <td>0.214286</td>\n",
       "      <td>0.473684</td>\n",
       "      <td>0.0</td>\n",
       "      <td>1.0</td>\n",
       "      <td>1.0</td>\n",
       "      <td>0.0</td>\n",
       "    </tr>\n",
       "    <tr>\n",
       "      <th>...</th>\n",
       "      <td>...</td>\n",
       "      <td>...</td>\n",
       "      <td>...</td>\n",
       "      <td>...</td>\n",
       "      <td>...</td>\n",
       "      <td>...</td>\n",
       "      <td>...</td>\n",
       "      <td>...</td>\n",
       "      <td>...</td>\n",
       "    </tr>\n",
       "    <tr>\n",
       "      <th>311</th>\n",
       "      <td>0.000000</td>\n",
       "      <td>0.000000</td>\n",
       "      <td>0.000000</td>\n",
       "      <td>0.357143</td>\n",
       "      <td>0.526316</td>\n",
       "      <td>1.0</td>\n",
       "      <td>0.0</td>\n",
       "      <td>1.0</td>\n",
       "      <td>1.0</td>\n",
       "    </tr>\n",
       "    <tr>\n",
       "      <th>312</th>\n",
       "      <td>0.000000</td>\n",
       "      <td>0.000000</td>\n",
       "      <td>0.078431</td>\n",
       "      <td>0.142857</td>\n",
       "      <td>0.421053</td>\n",
       "      <td>1.0</td>\n",
       "      <td>0.0</td>\n",
       "      <td>1.0</td>\n",
       "      <td>1.0</td>\n",
       "    </tr>\n",
       "    <tr>\n",
       "      <th>313</th>\n",
       "      <td>0.166667</td>\n",
       "      <td>0.166667</td>\n",
       "      <td>0.215686</td>\n",
       "      <td>0.285714</td>\n",
       "      <td>0.473684</td>\n",
       "      <td>1.0</td>\n",
       "      <td>0.0</td>\n",
       "      <td>1.0</td>\n",
       "      <td>1.0</td>\n",
       "    </tr>\n",
       "    <tr>\n",
       "      <th>314</th>\n",
       "      <td>0.000000</td>\n",
       "      <td>0.000000</td>\n",
       "      <td>0.000000</td>\n",
       "      <td>0.571429</td>\n",
       "      <td>0.789474</td>\n",
       "      <td>1.0</td>\n",
       "      <td>0.0</td>\n",
       "      <td>1.0</td>\n",
       "      <td>1.0</td>\n",
       "    </tr>\n",
       "    <tr>\n",
       "      <th>315</th>\n",
       "      <td>0.000000</td>\n",
       "      <td>0.000000</td>\n",
       "      <td>0.078431</td>\n",
       "      <td>0.357143</td>\n",
       "      <td>0.684211</td>\n",
       "      <td>1.0</td>\n",
       "      <td>0.0</td>\n",
       "      <td>1.0</td>\n",
       "      <td>1.0</td>\n",
       "    </tr>\n",
       "  </tbody>\n",
       "</table>\n",
       "<p>316 rows × 9 columns</p>\n",
       "</div>"
      ],
      "text/plain": [
       "     absences_G1  absences_G2  absences_G3        G1        G2  address  \\\n",
       "0       0.000000     0.000000     0.039216  0.500000  0.684211      1.0   \n",
       "1       0.000000     0.000000     0.000000  0.571429  0.736842      1.0   \n",
       "2       0.000000     0.000000     0.000000  0.214286  0.368421      1.0   \n",
       "3       0.000000     0.000000     0.039216  0.357143  0.473684      1.0   \n",
       "4       0.000000     0.000000     0.000000  0.214286  0.473684      0.0   \n",
       "..           ...          ...          ...       ...       ...      ...   \n",
       "311     0.000000     0.000000     0.000000  0.357143  0.526316      1.0   \n",
       "312     0.000000     0.000000     0.078431  0.142857  0.421053      1.0   \n",
       "313     0.166667     0.166667     0.215686  0.285714  0.473684      1.0   \n",
       "314     0.000000     0.000000     0.000000  0.571429  0.789474      1.0   \n",
       "315     0.000000     0.000000     0.078431  0.357143  0.684211      1.0   \n",
       "\n",
       "     traveltime  higher  internet  \n",
       "0           0.0     1.0       1.0  \n",
       "1           1.0     1.0       1.0  \n",
       "2           0.0     1.0       1.0  \n",
       "3           0.0     1.0       1.0  \n",
       "4           1.0     1.0       0.0  \n",
       "..          ...     ...       ...  \n",
       "311         0.0     1.0       1.0  \n",
       "312         0.0     1.0       1.0  \n",
       "313         0.0     1.0       1.0  \n",
       "314         0.0     1.0       1.0  \n",
       "315         0.0     1.0       1.0  \n",
       "\n",
       "[316 rows x 9 columns]"
      ]
     },
     "execution_count": 26,
     "metadata": {},
     "output_type": "execute_result"
    }
   ],
   "source": [
    "# converting X_train_prepared from numpy array to dataframe\n",
    "X_train_prepared_df = pd.DataFrame(X_train_prepared, columns=num_attributes + cat_attributes)\n",
    "X_train_prepared_df"
   ]
  },
  {
   "cell_type": "markdown",
   "id": "905b4515-8f35-4fc0-a1b4-ea1163ba299b",
   "metadata": {},
   "source": [
    "### Correlations Between Attributes\n",
    "Correlation matrix of all the features/attributes that will be used for the machine learning models.  These include the categorical attributes after scaling and preprocessing them."
   ]
  },
  {
   "cell_type": "code",
   "execution_count": 27,
   "id": "d36c81dc-0b1f-4ffa-98aa-9fbb4c42fa3b",
   "metadata": {},
   "outputs": [
    {
     "data": {
      "text/plain": [
       "G3             1.000000\n",
       "absences_G1    0.101712\n",
       "absences_G2    0.101712\n",
       "absences_G3    0.101627\n",
       "higher         0.039514\n",
       "address        0.035655\n",
       "internet       0.031972\n",
       "G1            -0.035527\n",
       "G2            -0.041303\n",
       "traveltime    -0.077363\n",
       "Name: G3, dtype: float64"
      ]
     },
     "execution_count": 27,
     "metadata": {},
     "output_type": "execute_result"
    }
   ],
   "source": [
    "# converting X_train_prepared from numpy array to a dataframe\n",
    "X_train_prepared_df = pd.DataFrame(X_train_prepared, columns=num_attributes + cat_attributes)\n",
    "\n",
    "# creating a combined dataframe\n",
    "combined_df = pd.concat([X_train_prepared_df, pd.Series(y_train, name='G3')], axis=1)\n",
    "\n",
    "# checking correlations\n",
    "corr_matrix = combined_df.corr()\n",
    "corr_matrix[\"G3\"].sort_values(ascending=False)"
   ]
  },
  {
   "cell_type": "code",
   "execution_count": 28,
   "id": "45f26692-7ee0-4d98-8744-ddf428ec1dfa",
   "metadata": {},
   "outputs": [],
   "source": [
    "# correct column names\n",
    "correct_column_names = ['absences_G1', 'absences_G2', 'absences_G3','G1','G2','address', 'traveltime', 'higher','internet']\n",
    "\n",
    "# reassigning the correct column names to the DataFrame\n",
    "X_train_prepared_df.columns = correct_column_names"
   ]
  },
  {
   "cell_type": "markdown",
   "id": "5a702ec4-f81f-4df6-add5-22d8ce598802",
   "metadata": {},
   "source": [
    "### Custom Transformer\n",
    "Creates a new column in the data that sums the 'absences_G1', 'absences_G2', and 'absences_G3' data and then drops those three columns.  It also has a parameter that when equal to True, drops the G1 and G2 columns, and when False, leaves the columns in the data. "
   ]
  },
  {
   "cell_type": "code",
   "execution_count": 29,
   "id": "b21d7df6-c9e8-45ed-84fb-332620b13852",
   "metadata": {},
   "outputs": [],
   "source": [
    "from sklearn.base import BaseEstimator, TransformerMixin\n",
    "\n",
    "# assigning the column names to their index with all rows of data for each included\n",
    "absences_G1, absences_G2, absences_G3, G1, G2 = X_train_prepared_df.iloc[:, :5]\n",
    "\n",
    "class Combined_G1G2G3_absences(BaseEstimator, TransformerMixin):\n",
    "    def __init__(self, drop_G1G2 = True):\n",
    "        self.drop_G1G2 = drop_G1G2\n",
    "        \n",
    "    def fit(self, X, y=None):\n",
    "        return self\n",
    "        \n",
    "    def transform(self, X):\n",
    "\n",
    "        # preserving original data\n",
    "        X_copy = X.copy() \n",
    "\n",
    "        # ensuring X is a DataFrame\n",
    "        if not isinstance(X, pd.DataFrame):\n",
    "            X = pd.DataFrame(X)\n",
    "        \n",
    "        # creating a new column that sums the absences_G1, absences_G2, and absences_G3\n",
    "        total_absences = X_copy[absences_G1] + X_copy[absences_G2] +  X_copy[absences_G3]\n",
    "        X_copy['total_absences'] = total_absences\n",
    "        \n",
    "        # dropping G1,G2,G3 absences columns\n",
    "        X_copy.drop(columns=['absences_G1', 'absences_G2', 'absences_G3'], inplace=True)\n",
    "        \n",
    "        if self.drop_G1G2:\n",
    "            # dropping the G1 and G2 columns if self.drop_G1G2 is True\n",
    "            X_copy.drop(columns=['G1','G2'], inplace=True)\n",
    "          \n",
    "            return pd.DataFrame(X_copy)\n",
    "    \n",
    "        else:\n",
    "            \n",
    "            return pd.DataFrame(X_copy)\n",
    "        "
   ]
  },
  {
   "cell_type": "markdown",
   "id": "00ad250b-a8b8-4875-8042-75044239c3d8",
   "metadata": {},
   "source": [
    "### Transform Training Data into Two Training Sets With/Without G1 and G2 Columns"
   ]
  },
  {
   "cell_type": "markdown",
   "id": "99e2dd0e-f8d2-45a4-a8d4-a621db27b448",
   "metadata": {},
   "source": [
    "Preprocessing pipelines that transforms X_train_prepared_df with and witout G1/G2 columns and outputs the shapes of each training set."
   ]
  },
  {
   "cell_type": "code",
   "execution_count": 30,
   "id": "5868d107-f380-4183-9e11-4280059156e5",
   "metadata": {},
   "outputs": [
    {
     "name": "stdout",
     "output_type": "stream",
     "text": [
      "Shape of transformed training set without G1/G2 columns: (316, 5)\n",
      "Shape of transformed training set with G1/G2 columns: (316, 7)\n"
     ]
    }
   ],
   "source": [
    "from sklearn.preprocessing import StandardScaler\n",
    "\n",
    "# preprocessing pipeline with the custom transformer for dropping 'G1' and 'G2' columns\n",
    "preprocessing_woG1G2 = make_pipeline(\n",
    "    Combined_G1G2G3_absences(drop_G1G2=True),\n",
    "    SimpleImputer(strategy=\"mean\"),\n",
    "    StandardScaler()\n",
    ")\n",
    "\n",
    "# custom transformer set to False\n",
    "preprocessing_wG1G2 = make_pipeline(\n",
    "    Combined_G1G2G3_absences(drop_G1G2=False),\n",
    "    SimpleImputer(strategy=\"mean\"),    \n",
    "    StandardScaler()\n",
    ")\n",
    "\n",
    "# fitting and transforming the training data using the pipelines\n",
    "X_train_transformed_woG1G2 = preprocessing_woG1G2.fit_transform(X_train_prepared_df)\n",
    "X_train_transformed_wG1G2 = preprocessing_wG1G2.fit_transform(X_train_prepared_df)\n",
    "\n",
    "# outputting the shapes of the transformed training sets\n",
    "print(\"Shape of transformed training set without G1/G2 columns:\", X_train_transformed_woG1G2.shape)\n",
    "print(\"Shape of transformed training set with G1/G2 columns:\", X_train_transformed_wG1G2.shape)"
   ]
  },
  {
   "cell_type": "markdown",
   "id": "ee2fa2fb-88f9-4d11-834f-fdc30a1525d9",
   "metadata": {},
   "source": [
    "The output of the transformed dataset above is a Numpy Array, to be able to analyze better will convert to Pandas DataFrame (which outputs similiar to excel file)."
   ]
  },
  {
   "cell_type": "code",
   "execution_count": 31,
   "id": "c7b16b39-b1a7-4ec9-a5ed-f5bbdbe2749d",
   "metadata": {},
   "outputs": [
    {
     "data": {
      "text/html": [
       "<div>\n",
       "<style scoped>\n",
       "    .dataframe tbody tr th:only-of-type {\n",
       "        vertical-align: middle;\n",
       "    }\n",
       "\n",
       "    .dataframe tbody tr th {\n",
       "        vertical-align: top;\n",
       "    }\n",
       "\n",
       "    .dataframe thead th {\n",
       "        text-align: right;\n",
       "    }\n",
       "</style>\n",
       "<table border=\"1\" class=\"dataframe\">\n",
       "  <thead>\n",
       "    <tr style=\"text-align: right;\">\n",
       "      <th></th>\n",
       "      <th>0</th>\n",
       "      <th>1</th>\n",
       "      <th>2</th>\n",
       "      <th>3</th>\n",
       "      <th>4</th>\n",
       "      <th>5</th>\n",
       "      <th>6</th>\n",
       "    </tr>\n",
       "  </thead>\n",
       "  <tbody>\n",
       "    <tr>\n",
       "      <th>0</th>\n",
       "      <td>0.332050</td>\n",
       "      <td>0.626163</td>\n",
       "      <td>0.528538</td>\n",
       "      <td>-0.625779</td>\n",
       "      <td>0.24577</td>\n",
       "      <td>0.438694</td>\n",
       "      <td>-0.484361</td>\n",
       "    </tr>\n",
       "    <tr>\n",
       "      <th>1</th>\n",
       "      <td>0.643409</td>\n",
       "      <td>0.892831</td>\n",
       "      <td>0.528538</td>\n",
       "      <td>0.828236</td>\n",
       "      <td>0.24577</td>\n",
       "      <td>0.438694</td>\n",
       "      <td>-0.601714</td>\n",
       "    </tr>\n",
       "    <tr>\n",
       "      <th>2</th>\n",
       "      <td>-0.913385</td>\n",
       "      <td>-0.973844</td>\n",
       "      <td>0.528538</td>\n",
       "      <td>-0.625779</td>\n",
       "      <td>0.24577</td>\n",
       "      <td>0.438694</td>\n",
       "      <td>-0.601714</td>\n",
       "    </tr>\n",
       "    <tr>\n",
       "      <th>3</th>\n",
       "      <td>-0.290667</td>\n",
       "      <td>-0.440508</td>\n",
       "      <td>0.528538</td>\n",
       "      <td>-0.625779</td>\n",
       "      <td>0.24577</td>\n",
       "      <td>0.438694</td>\n",
       "      <td>-0.484361</td>\n",
       "    </tr>\n",
       "    <tr>\n",
       "      <th>4</th>\n",
       "      <td>-0.913385</td>\n",
       "      <td>-0.440508</td>\n",
       "      <td>-1.892012</td>\n",
       "      <td>0.828236</td>\n",
       "      <td>0.24577</td>\n",
       "      <td>-2.279491</td>\n",
       "      <td>-0.601714</td>\n",
       "    </tr>\n",
       "    <tr>\n",
       "      <th>...</th>\n",
       "      <td>...</td>\n",
       "      <td>...</td>\n",
       "      <td>...</td>\n",
       "      <td>...</td>\n",
       "      <td>...</td>\n",
       "      <td>...</td>\n",
       "      <td>...</td>\n",
       "    </tr>\n",
       "    <tr>\n",
       "      <th>311</th>\n",
       "      <td>-0.290667</td>\n",
       "      <td>-0.173840</td>\n",
       "      <td>0.528538</td>\n",
       "      <td>-0.625779</td>\n",
       "      <td>0.24577</td>\n",
       "      <td>0.438694</td>\n",
       "      <td>-0.601714</td>\n",
       "    </tr>\n",
       "    <tr>\n",
       "      <th>312</th>\n",
       "      <td>-1.224743</td>\n",
       "      <td>-0.707176</td>\n",
       "      <td>0.528538</td>\n",
       "      <td>-0.625779</td>\n",
       "      <td>0.24577</td>\n",
       "      <td>0.438694</td>\n",
       "      <td>-0.367008</td>\n",
       "    </tr>\n",
       "    <tr>\n",
       "      <th>313</th>\n",
       "      <td>-0.602026</td>\n",
       "      <td>-0.440508</td>\n",
       "      <td>0.528538</td>\n",
       "      <td>-0.625779</td>\n",
       "      <td>0.24577</td>\n",
       "      <td>0.438694</td>\n",
       "      <td>1.041232</td>\n",
       "    </tr>\n",
       "    <tr>\n",
       "      <th>314</th>\n",
       "      <td>0.643409</td>\n",
       "      <td>1.159499</td>\n",
       "      <td>0.528538</td>\n",
       "      <td>-0.625779</td>\n",
       "      <td>0.24577</td>\n",
       "      <td>0.438694</td>\n",
       "      <td>-0.601714</td>\n",
       "    </tr>\n",
       "    <tr>\n",
       "      <th>315</th>\n",
       "      <td>-0.290667</td>\n",
       "      <td>0.626163</td>\n",
       "      <td>0.528538</td>\n",
       "      <td>-0.625779</td>\n",
       "      <td>0.24577</td>\n",
       "      <td>0.438694</td>\n",
       "      <td>-0.367008</td>\n",
       "    </tr>\n",
       "  </tbody>\n",
       "</table>\n",
       "<p>316 rows × 7 columns</p>\n",
       "</div>"
      ],
      "text/plain": [
       "            0         1         2         3        4         5         6\n",
       "0    0.332050  0.626163  0.528538 -0.625779  0.24577  0.438694 -0.484361\n",
       "1    0.643409  0.892831  0.528538  0.828236  0.24577  0.438694 -0.601714\n",
       "2   -0.913385 -0.973844  0.528538 -0.625779  0.24577  0.438694 -0.601714\n",
       "3   -0.290667 -0.440508  0.528538 -0.625779  0.24577  0.438694 -0.484361\n",
       "4   -0.913385 -0.440508 -1.892012  0.828236  0.24577 -2.279491 -0.601714\n",
       "..        ...       ...       ...       ...      ...       ...       ...\n",
       "311 -0.290667 -0.173840  0.528538 -0.625779  0.24577  0.438694 -0.601714\n",
       "312 -1.224743 -0.707176  0.528538 -0.625779  0.24577  0.438694 -0.367008\n",
       "313 -0.602026 -0.440508  0.528538 -0.625779  0.24577  0.438694  1.041232\n",
       "314  0.643409  1.159499  0.528538 -0.625779  0.24577  0.438694 -0.601714\n",
       "315 -0.290667  0.626163  0.528538 -0.625779  0.24577  0.438694 -0.367008\n",
       "\n",
       "[316 rows x 7 columns]"
      ]
     },
     "execution_count": 31,
     "metadata": {},
     "output_type": "execute_result"
    }
   ],
   "source": [
    "# converting X_train_transformed_wG1G2 as a numpy array to pandas dataframe\n",
    "X_train_transformed_wG1G2_df = pd.DataFrame(X_train_transformed_wG1G2)\n",
    "X_train_transformed_wG1G2_df"
   ]
  },
  {
   "cell_type": "markdown",
   "id": "9a480740-8660-4c7b-a187-da151743bc89",
   "metadata": {},
   "source": [
    "The following code block retrieves the column names of X_train_transformed_wG1G2_df after transformation because the output above gives only the index numbers."
   ]
  },
  {
   "cell_type": "code",
   "execution_count": 32,
   "id": "3e5f27e3-18a2-4bfc-9585-bcea8350963d",
   "metadata": {
    "scrolled": true
   },
   "outputs": [
    {
     "name": "stdout",
     "output_type": "stream",
     "text": [
      "Columns before transformation: Index(['absences_G1', 'absences_G2', 'absences_G3', 'G1', 'G2', 'address',\n",
      "       'traveltime', 'higher', 'internet'],\n",
      "      dtype='object')\n",
      "Columns after transformation: Index(['G1', 'G2', 'address', 'traveltime', 'higher', 'internet',\n",
      "       'total_absences'],\n",
      "      dtype='object')\n"
     ]
    }
   ],
   "source": [
    "# checking columns before transformation\n",
    "print(\"Columns before transformation:\", X_train_prepared_df.columns)\n",
    "\n",
    "# instantiating the Combined_G1G2G3_absences transformer\n",
    "combined_transformer = Combined_G1G2G3_absences(drop_G1G2=False)\n",
    "\n",
    "# transforming the data\n",
    "X_transformed_wG1G2 = combined_transformer.transform(X_train_prepared_df)\n",
    "\n",
    "# checking the columns of the transformed dataframe\n",
    "print(\"Columns after transformation:\", X_transformed_wG1G2.columns)"
   ]
  },
  {
   "cell_type": "markdown",
   "id": "a3219fe9-8ff2-45cd-b2c0-dd48caaa5ec9",
   "metadata": {},
   "source": [
    "Updating the index numbers with their correct column names for the dataframe."
   ]
  },
  {
   "cell_type": "code",
   "execution_count": 33,
   "id": "ce2af36e-830e-4fc5-bced-bb5402d36a67",
   "metadata": {
    "scrolled": true
   },
   "outputs": [
    {
     "data": {
      "text/html": [
       "<div>\n",
       "<style scoped>\n",
       "    .dataframe tbody tr th:only-of-type {\n",
       "        vertical-align: middle;\n",
       "    }\n",
       "\n",
       "    .dataframe tbody tr th {\n",
       "        vertical-align: top;\n",
       "    }\n",
       "\n",
       "    .dataframe thead th {\n",
       "        text-align: right;\n",
       "    }\n",
       "</style>\n",
       "<table border=\"1\" class=\"dataframe\">\n",
       "  <thead>\n",
       "    <tr style=\"text-align: right;\">\n",
       "      <th></th>\n",
       "      <th>G1</th>\n",
       "      <th>G2</th>\n",
       "      <th>address</th>\n",
       "      <th>traveltime</th>\n",
       "      <th>higher</th>\n",
       "      <th>internet</th>\n",
       "      <th>total_absences</th>\n",
       "    </tr>\n",
       "  </thead>\n",
       "  <tbody>\n",
       "    <tr>\n",
       "      <th>0</th>\n",
       "      <td>0.332050</td>\n",
       "      <td>0.626163</td>\n",
       "      <td>0.528538</td>\n",
       "      <td>-0.625779</td>\n",
       "      <td>0.24577</td>\n",
       "      <td>0.438694</td>\n",
       "      <td>-0.484361</td>\n",
       "    </tr>\n",
       "    <tr>\n",
       "      <th>1</th>\n",
       "      <td>0.643409</td>\n",
       "      <td>0.892831</td>\n",
       "      <td>0.528538</td>\n",
       "      <td>0.828236</td>\n",
       "      <td>0.24577</td>\n",
       "      <td>0.438694</td>\n",
       "      <td>-0.601714</td>\n",
       "    </tr>\n",
       "    <tr>\n",
       "      <th>2</th>\n",
       "      <td>-0.913385</td>\n",
       "      <td>-0.973844</td>\n",
       "      <td>0.528538</td>\n",
       "      <td>-0.625779</td>\n",
       "      <td>0.24577</td>\n",
       "      <td>0.438694</td>\n",
       "      <td>-0.601714</td>\n",
       "    </tr>\n",
       "    <tr>\n",
       "      <th>3</th>\n",
       "      <td>-0.290667</td>\n",
       "      <td>-0.440508</td>\n",
       "      <td>0.528538</td>\n",
       "      <td>-0.625779</td>\n",
       "      <td>0.24577</td>\n",
       "      <td>0.438694</td>\n",
       "      <td>-0.484361</td>\n",
       "    </tr>\n",
       "    <tr>\n",
       "      <th>4</th>\n",
       "      <td>-0.913385</td>\n",
       "      <td>-0.440508</td>\n",
       "      <td>-1.892012</td>\n",
       "      <td>0.828236</td>\n",
       "      <td>0.24577</td>\n",
       "      <td>-2.279491</td>\n",
       "      <td>-0.601714</td>\n",
       "    </tr>\n",
       "    <tr>\n",
       "      <th>...</th>\n",
       "      <td>...</td>\n",
       "      <td>...</td>\n",
       "      <td>...</td>\n",
       "      <td>...</td>\n",
       "      <td>...</td>\n",
       "      <td>...</td>\n",
       "      <td>...</td>\n",
       "    </tr>\n",
       "    <tr>\n",
       "      <th>311</th>\n",
       "      <td>-0.290667</td>\n",
       "      <td>-0.173840</td>\n",
       "      <td>0.528538</td>\n",
       "      <td>-0.625779</td>\n",
       "      <td>0.24577</td>\n",
       "      <td>0.438694</td>\n",
       "      <td>-0.601714</td>\n",
       "    </tr>\n",
       "    <tr>\n",
       "      <th>312</th>\n",
       "      <td>-1.224743</td>\n",
       "      <td>-0.707176</td>\n",
       "      <td>0.528538</td>\n",
       "      <td>-0.625779</td>\n",
       "      <td>0.24577</td>\n",
       "      <td>0.438694</td>\n",
       "      <td>-0.367008</td>\n",
       "    </tr>\n",
       "    <tr>\n",
       "      <th>313</th>\n",
       "      <td>-0.602026</td>\n",
       "      <td>-0.440508</td>\n",
       "      <td>0.528538</td>\n",
       "      <td>-0.625779</td>\n",
       "      <td>0.24577</td>\n",
       "      <td>0.438694</td>\n",
       "      <td>1.041232</td>\n",
       "    </tr>\n",
       "    <tr>\n",
       "      <th>314</th>\n",
       "      <td>0.643409</td>\n",
       "      <td>1.159499</td>\n",
       "      <td>0.528538</td>\n",
       "      <td>-0.625779</td>\n",
       "      <td>0.24577</td>\n",
       "      <td>0.438694</td>\n",
       "      <td>-0.601714</td>\n",
       "    </tr>\n",
       "    <tr>\n",
       "      <th>315</th>\n",
       "      <td>-0.290667</td>\n",
       "      <td>0.626163</td>\n",
       "      <td>0.528538</td>\n",
       "      <td>-0.625779</td>\n",
       "      <td>0.24577</td>\n",
       "      <td>0.438694</td>\n",
       "      <td>-0.367008</td>\n",
       "    </tr>\n",
       "  </tbody>\n",
       "</table>\n",
       "<p>316 rows × 7 columns</p>\n",
       "</div>"
      ],
      "text/plain": [
       "           G1        G2   address  traveltime   higher  internet  \\\n",
       "0    0.332050  0.626163  0.528538   -0.625779  0.24577  0.438694   \n",
       "1    0.643409  0.892831  0.528538    0.828236  0.24577  0.438694   \n",
       "2   -0.913385 -0.973844  0.528538   -0.625779  0.24577  0.438694   \n",
       "3   -0.290667 -0.440508  0.528538   -0.625779  0.24577  0.438694   \n",
       "4   -0.913385 -0.440508 -1.892012    0.828236  0.24577 -2.279491   \n",
       "..        ...       ...       ...         ...      ...       ...   \n",
       "311 -0.290667 -0.173840  0.528538   -0.625779  0.24577  0.438694   \n",
       "312 -1.224743 -0.707176  0.528538   -0.625779  0.24577  0.438694   \n",
       "313 -0.602026 -0.440508  0.528538   -0.625779  0.24577  0.438694   \n",
       "314  0.643409  1.159499  0.528538   -0.625779  0.24577  0.438694   \n",
       "315 -0.290667  0.626163  0.528538   -0.625779  0.24577  0.438694   \n",
       "\n",
       "     total_absences  \n",
       "0         -0.484361  \n",
       "1         -0.601714  \n",
       "2         -0.601714  \n",
       "3         -0.484361  \n",
       "4         -0.601714  \n",
       "..              ...  \n",
       "311       -0.601714  \n",
       "312       -0.367008  \n",
       "313        1.041232  \n",
       "314       -0.601714  \n",
       "315       -0.367008  \n",
       "\n",
       "[316 rows x 7 columns]"
      ]
     },
     "execution_count": 33,
     "metadata": {},
     "output_type": "execute_result"
    }
   ],
   "source": [
    "# correct column names index order\n",
    "correct_column_names = ['G1', 'G2', 'address','traveltime','higher','internet','total_absences']\n",
    "\n",
    "# reassigning the correct column names to the dataframe\n",
    "X_train_transformed_wG1G2_df.columns = correct_column_names\n",
    "X_train_transformed_wG1G2_df"
   ]
  },
  {
   "cell_type": "markdown",
   "id": "9948432f-d3ce-4d38-82a4-32c3c94fb2cf",
   "metadata": {},
   "source": [
    "Doing the same process as above to update the index numbers to their proper column names for the X_train_transformed_woG1G2 dataset in the following three code blocks."
   ]
  },
  {
   "cell_type": "code",
   "execution_count": 34,
   "id": "6ffb14d7-81f5-4650-b46a-850270c07c97",
   "metadata": {},
   "outputs": [
    {
     "data": {
      "text/html": [
       "<div>\n",
       "<style scoped>\n",
       "    .dataframe tbody tr th:only-of-type {\n",
       "        vertical-align: middle;\n",
       "    }\n",
       "\n",
       "    .dataframe tbody tr th {\n",
       "        vertical-align: top;\n",
       "    }\n",
       "\n",
       "    .dataframe thead th {\n",
       "        text-align: right;\n",
       "    }\n",
       "</style>\n",
       "<table border=\"1\" class=\"dataframe\">\n",
       "  <thead>\n",
       "    <tr style=\"text-align: right;\">\n",
       "      <th></th>\n",
       "      <th>0</th>\n",
       "      <th>1</th>\n",
       "      <th>2</th>\n",
       "      <th>3</th>\n",
       "      <th>4</th>\n",
       "    </tr>\n",
       "  </thead>\n",
       "  <tbody>\n",
       "    <tr>\n",
       "      <th>0</th>\n",
       "      <td>0.528538</td>\n",
       "      <td>-0.625779</td>\n",
       "      <td>0.24577</td>\n",
       "      <td>0.438694</td>\n",
       "      <td>-0.484361</td>\n",
       "    </tr>\n",
       "    <tr>\n",
       "      <th>1</th>\n",
       "      <td>0.528538</td>\n",
       "      <td>0.828236</td>\n",
       "      <td>0.24577</td>\n",
       "      <td>0.438694</td>\n",
       "      <td>-0.601714</td>\n",
       "    </tr>\n",
       "    <tr>\n",
       "      <th>2</th>\n",
       "      <td>0.528538</td>\n",
       "      <td>-0.625779</td>\n",
       "      <td>0.24577</td>\n",
       "      <td>0.438694</td>\n",
       "      <td>-0.601714</td>\n",
       "    </tr>\n",
       "    <tr>\n",
       "      <th>3</th>\n",
       "      <td>0.528538</td>\n",
       "      <td>-0.625779</td>\n",
       "      <td>0.24577</td>\n",
       "      <td>0.438694</td>\n",
       "      <td>-0.484361</td>\n",
       "    </tr>\n",
       "    <tr>\n",
       "      <th>4</th>\n",
       "      <td>-1.892012</td>\n",
       "      <td>0.828236</td>\n",
       "      <td>0.24577</td>\n",
       "      <td>-2.279491</td>\n",
       "      <td>-0.601714</td>\n",
       "    </tr>\n",
       "    <tr>\n",
       "      <th>...</th>\n",
       "      <td>...</td>\n",
       "      <td>...</td>\n",
       "      <td>...</td>\n",
       "      <td>...</td>\n",
       "      <td>...</td>\n",
       "    </tr>\n",
       "    <tr>\n",
       "      <th>311</th>\n",
       "      <td>0.528538</td>\n",
       "      <td>-0.625779</td>\n",
       "      <td>0.24577</td>\n",
       "      <td>0.438694</td>\n",
       "      <td>-0.601714</td>\n",
       "    </tr>\n",
       "    <tr>\n",
       "      <th>312</th>\n",
       "      <td>0.528538</td>\n",
       "      <td>-0.625779</td>\n",
       "      <td>0.24577</td>\n",
       "      <td>0.438694</td>\n",
       "      <td>-0.367008</td>\n",
       "    </tr>\n",
       "    <tr>\n",
       "      <th>313</th>\n",
       "      <td>0.528538</td>\n",
       "      <td>-0.625779</td>\n",
       "      <td>0.24577</td>\n",
       "      <td>0.438694</td>\n",
       "      <td>1.041232</td>\n",
       "    </tr>\n",
       "    <tr>\n",
       "      <th>314</th>\n",
       "      <td>0.528538</td>\n",
       "      <td>-0.625779</td>\n",
       "      <td>0.24577</td>\n",
       "      <td>0.438694</td>\n",
       "      <td>-0.601714</td>\n",
       "    </tr>\n",
       "    <tr>\n",
       "      <th>315</th>\n",
       "      <td>0.528538</td>\n",
       "      <td>-0.625779</td>\n",
       "      <td>0.24577</td>\n",
       "      <td>0.438694</td>\n",
       "      <td>-0.367008</td>\n",
       "    </tr>\n",
       "  </tbody>\n",
       "</table>\n",
       "<p>316 rows × 5 columns</p>\n",
       "</div>"
      ],
      "text/plain": [
       "            0         1        2         3         4\n",
       "0    0.528538 -0.625779  0.24577  0.438694 -0.484361\n",
       "1    0.528538  0.828236  0.24577  0.438694 -0.601714\n",
       "2    0.528538 -0.625779  0.24577  0.438694 -0.601714\n",
       "3    0.528538 -0.625779  0.24577  0.438694 -0.484361\n",
       "4   -1.892012  0.828236  0.24577 -2.279491 -0.601714\n",
       "..        ...       ...      ...       ...       ...\n",
       "311  0.528538 -0.625779  0.24577  0.438694 -0.601714\n",
       "312  0.528538 -0.625779  0.24577  0.438694 -0.367008\n",
       "313  0.528538 -0.625779  0.24577  0.438694  1.041232\n",
       "314  0.528538 -0.625779  0.24577  0.438694 -0.601714\n",
       "315  0.528538 -0.625779  0.24577  0.438694 -0.367008\n",
       "\n",
       "[316 rows x 5 columns]"
      ]
     },
     "execution_count": 34,
     "metadata": {},
     "output_type": "execute_result"
    }
   ],
   "source": [
    "# converting X_train_transformed_wG1G2 from numpy array to pandas dataframe\n",
    "X_train_transformed_woG1G2_df = pd.DataFrame(X_train_transformed_woG1G2)\n",
    "X_train_transformed_woG1G2_df"
   ]
  },
  {
   "cell_type": "code",
   "execution_count": 35,
   "id": "70f1d598-a2af-41d2-aded-a20f1ea4979f",
   "metadata": {
    "scrolled": true
   },
   "outputs": [
    {
     "name": "stdout",
     "output_type": "stream",
     "text": [
      "Columns before transformation: Index(['absences_G1', 'absences_G2', 'absences_G3', 'G1', 'G2', 'address',\n",
      "       'traveltime', 'higher', 'internet'],\n",
      "      dtype='object')\n",
      "Columns after transformation: Index(['address', 'traveltime', 'higher', 'internet', 'total_absences'], dtype='object')\n"
     ]
    }
   ],
   "source": [
    "# checking columns before transformation\n",
    "print(\"Columns before transformation:\", X_train_prepared_df.columns)\n",
    "\n",
    "# instantiating the Combined_G1G2G3_absences transformer\n",
    "combined_transformer = Combined_G1G2G3_absences(drop_G1G2=True)\n",
    "\n",
    "# transforming the data\n",
    "X_transformed_woG1G2 = combined_transformer.transform(X_train_prepared_df)\n",
    "\n",
    "# checking the column names index order of the transformed dataframe\n",
    "print(\"Columns after transformation:\", X_transformed_woG1G2.columns)"
   ]
  },
  {
   "cell_type": "code",
   "execution_count": 36,
   "id": "0c9f41a1-01ec-44c8-a45b-cebd64b061cd",
   "metadata": {},
   "outputs": [
    {
     "data": {
      "text/html": [
       "<div>\n",
       "<style scoped>\n",
       "    .dataframe tbody tr th:only-of-type {\n",
       "        vertical-align: middle;\n",
       "    }\n",
       "\n",
       "    .dataframe tbody tr th {\n",
       "        vertical-align: top;\n",
       "    }\n",
       "\n",
       "    .dataframe thead th {\n",
       "        text-align: right;\n",
       "    }\n",
       "</style>\n",
       "<table border=\"1\" class=\"dataframe\">\n",
       "  <thead>\n",
       "    <tr style=\"text-align: right;\">\n",
       "      <th></th>\n",
       "      <th>address</th>\n",
       "      <th>traveltime</th>\n",
       "      <th>higher</th>\n",
       "      <th>internet</th>\n",
       "      <th>total_absences</th>\n",
       "    </tr>\n",
       "  </thead>\n",
       "  <tbody>\n",
       "    <tr>\n",
       "      <th>0</th>\n",
       "      <td>0.528538</td>\n",
       "      <td>-0.625779</td>\n",
       "      <td>0.24577</td>\n",
       "      <td>0.438694</td>\n",
       "      <td>-0.484361</td>\n",
       "    </tr>\n",
       "    <tr>\n",
       "      <th>1</th>\n",
       "      <td>0.528538</td>\n",
       "      <td>0.828236</td>\n",
       "      <td>0.24577</td>\n",
       "      <td>0.438694</td>\n",
       "      <td>-0.601714</td>\n",
       "    </tr>\n",
       "    <tr>\n",
       "      <th>2</th>\n",
       "      <td>0.528538</td>\n",
       "      <td>-0.625779</td>\n",
       "      <td>0.24577</td>\n",
       "      <td>0.438694</td>\n",
       "      <td>-0.601714</td>\n",
       "    </tr>\n",
       "    <tr>\n",
       "      <th>3</th>\n",
       "      <td>0.528538</td>\n",
       "      <td>-0.625779</td>\n",
       "      <td>0.24577</td>\n",
       "      <td>0.438694</td>\n",
       "      <td>-0.484361</td>\n",
       "    </tr>\n",
       "    <tr>\n",
       "      <th>4</th>\n",
       "      <td>-1.892012</td>\n",
       "      <td>0.828236</td>\n",
       "      <td>0.24577</td>\n",
       "      <td>-2.279491</td>\n",
       "      <td>-0.601714</td>\n",
       "    </tr>\n",
       "    <tr>\n",
       "      <th>...</th>\n",
       "      <td>...</td>\n",
       "      <td>...</td>\n",
       "      <td>...</td>\n",
       "      <td>...</td>\n",
       "      <td>...</td>\n",
       "    </tr>\n",
       "    <tr>\n",
       "      <th>311</th>\n",
       "      <td>0.528538</td>\n",
       "      <td>-0.625779</td>\n",
       "      <td>0.24577</td>\n",
       "      <td>0.438694</td>\n",
       "      <td>-0.601714</td>\n",
       "    </tr>\n",
       "    <tr>\n",
       "      <th>312</th>\n",
       "      <td>0.528538</td>\n",
       "      <td>-0.625779</td>\n",
       "      <td>0.24577</td>\n",
       "      <td>0.438694</td>\n",
       "      <td>-0.367008</td>\n",
       "    </tr>\n",
       "    <tr>\n",
       "      <th>313</th>\n",
       "      <td>0.528538</td>\n",
       "      <td>-0.625779</td>\n",
       "      <td>0.24577</td>\n",
       "      <td>0.438694</td>\n",
       "      <td>1.041232</td>\n",
       "    </tr>\n",
       "    <tr>\n",
       "      <th>314</th>\n",
       "      <td>0.528538</td>\n",
       "      <td>-0.625779</td>\n",
       "      <td>0.24577</td>\n",
       "      <td>0.438694</td>\n",
       "      <td>-0.601714</td>\n",
       "    </tr>\n",
       "    <tr>\n",
       "      <th>315</th>\n",
       "      <td>0.528538</td>\n",
       "      <td>-0.625779</td>\n",
       "      <td>0.24577</td>\n",
       "      <td>0.438694</td>\n",
       "      <td>-0.367008</td>\n",
       "    </tr>\n",
       "  </tbody>\n",
       "</table>\n",
       "<p>316 rows × 5 columns</p>\n",
       "</div>"
      ],
      "text/plain": [
       "      address  traveltime   higher  internet  total_absences\n",
       "0    0.528538   -0.625779  0.24577  0.438694       -0.484361\n",
       "1    0.528538    0.828236  0.24577  0.438694       -0.601714\n",
       "2    0.528538   -0.625779  0.24577  0.438694       -0.601714\n",
       "3    0.528538   -0.625779  0.24577  0.438694       -0.484361\n",
       "4   -1.892012    0.828236  0.24577 -2.279491       -0.601714\n",
       "..        ...         ...      ...       ...             ...\n",
       "311  0.528538   -0.625779  0.24577  0.438694       -0.601714\n",
       "312  0.528538   -0.625779  0.24577  0.438694       -0.367008\n",
       "313  0.528538   -0.625779  0.24577  0.438694        1.041232\n",
       "314  0.528538   -0.625779  0.24577  0.438694       -0.601714\n",
       "315  0.528538   -0.625779  0.24577  0.438694       -0.367008\n",
       "\n",
       "[316 rows x 5 columns]"
      ]
     },
     "execution_count": 36,
     "metadata": {},
     "output_type": "execute_result"
    }
   ],
   "source": [
    "# correcting column names index order\n",
    "correct_column_names_woG1G2 = ['address', 'traveltime', 'higher','internet','total_absences']\n",
    "\n",
    "# reassigning the correct column names to the DataFrame\n",
    "X_train_transformed_woG1G2_df.columns = correct_column_names_woG1G2\n",
    "X_train_transformed_woG1G2_df"
   ]
  },
  {
   "cell_type": "markdown",
   "id": "d03ec44d-c77b-47e2-a227-7d9a5eb6b0d1",
   "metadata": {},
   "source": [
    "## Shortlist Promising Models:\n",
    "Fitting and Comparing 4 Models With and Without the G1/G2 Columns with Cross Validation"
   ]
  },
  {
   "cell_type": "markdown",
   "id": "1a13a272-3fab-4522-835b-d866ac49a901",
   "metadata": {},
   "source": [
    "### Model #1: Ordinary Least Squares Linear Regression Models With and Without G1 and G2 Columns"
   ]
  },
  {
   "cell_type": "code",
   "execution_count": 37,
   "id": "25a0c7fe-fda7-4505-8f4b-4333dd72d54a",
   "metadata": {},
   "outputs": [
    {
     "data": {
      "text/html": [
       "<style>#sk-container-id-1 {color: black;}#sk-container-id-1 pre{padding: 0;}#sk-container-id-1 div.sk-toggleable {background-color: white;}#sk-container-id-1 label.sk-toggleable__label {cursor: pointer;display: block;width: 100%;margin-bottom: 0;padding: 0.3em;box-sizing: border-box;text-align: center;}#sk-container-id-1 label.sk-toggleable__label-arrow:before {content: \"▸\";float: left;margin-right: 0.25em;color: #696969;}#sk-container-id-1 label.sk-toggleable__label-arrow:hover:before {color: black;}#sk-container-id-1 div.sk-estimator:hover label.sk-toggleable__label-arrow:before {color: black;}#sk-container-id-1 div.sk-toggleable__content {max-height: 0;max-width: 0;overflow: hidden;text-align: left;background-color: #f0f8ff;}#sk-container-id-1 div.sk-toggleable__content pre {margin: 0.2em;color: black;border-radius: 0.25em;background-color: #f0f8ff;}#sk-container-id-1 input.sk-toggleable__control:checked~div.sk-toggleable__content {max-height: 200px;max-width: 100%;overflow: auto;}#sk-container-id-1 input.sk-toggleable__control:checked~label.sk-toggleable__label-arrow:before {content: \"▾\";}#sk-container-id-1 div.sk-estimator input.sk-toggleable__control:checked~label.sk-toggleable__label {background-color: #d4ebff;}#sk-container-id-1 div.sk-label input.sk-toggleable__control:checked~label.sk-toggleable__label {background-color: #d4ebff;}#sk-container-id-1 input.sk-hidden--visually {border: 0;clip: rect(1px 1px 1px 1px);clip: rect(1px, 1px, 1px, 1px);height: 1px;margin: -1px;overflow: hidden;padding: 0;position: absolute;width: 1px;}#sk-container-id-1 div.sk-estimator {font-family: monospace;background-color: #f0f8ff;border: 1px dotted black;border-radius: 0.25em;box-sizing: border-box;margin-bottom: 0.5em;}#sk-container-id-1 div.sk-estimator:hover {background-color: #d4ebff;}#sk-container-id-1 div.sk-parallel-item::after {content: \"\";width: 100%;border-bottom: 1px solid gray;flex-grow: 1;}#sk-container-id-1 div.sk-label:hover label.sk-toggleable__label {background-color: #d4ebff;}#sk-container-id-1 div.sk-serial::before {content: \"\";position: absolute;border-left: 1px solid gray;box-sizing: border-box;top: 0;bottom: 0;left: 50%;z-index: 0;}#sk-container-id-1 div.sk-serial {display: flex;flex-direction: column;align-items: center;background-color: white;padding-right: 0.2em;padding-left: 0.2em;position: relative;}#sk-container-id-1 div.sk-item {position: relative;z-index: 1;}#sk-container-id-1 div.sk-parallel {display: flex;align-items: stretch;justify-content: center;background-color: white;position: relative;}#sk-container-id-1 div.sk-item::before, #sk-container-id-1 div.sk-parallel-item::before {content: \"\";position: absolute;border-left: 1px solid gray;box-sizing: border-box;top: 0;bottom: 0;left: 50%;z-index: -1;}#sk-container-id-1 div.sk-parallel-item {display: flex;flex-direction: column;z-index: 1;position: relative;background-color: white;}#sk-container-id-1 div.sk-parallel-item:first-child::after {align-self: flex-end;width: 50%;}#sk-container-id-1 div.sk-parallel-item:last-child::after {align-self: flex-start;width: 50%;}#sk-container-id-1 div.sk-parallel-item:only-child::after {width: 0;}#sk-container-id-1 div.sk-dashed-wrapped {border: 1px dashed gray;margin: 0 0.4em 0.5em 0.4em;box-sizing: border-box;padding-bottom: 0.4em;background-color: white;}#sk-container-id-1 div.sk-label label {font-family: monospace;font-weight: bold;display: inline-block;line-height: 1.2em;}#sk-container-id-1 div.sk-label-container {text-align: center;}#sk-container-id-1 div.sk-container {/* jupyter's `normalize.less` sets `[hidden] { display: none; }` but bootstrap.min.css set `[hidden] { display: none !important; }` so we also need the `!important` here to be able to override the default hidden behavior on the sphinx rendered scikit-learn.org. See: https://github.com/scikit-learn/scikit-learn/issues/21755 */display: inline-block !important;position: relative;}#sk-container-id-1 div.sk-text-repr-fallback {display: none;}</style><div id=\"sk-container-id-1\" class=\"sk-top-container\"><div class=\"sk-text-repr-fallback\"><pre>LinearRegression()</pre><b>In a Jupyter environment, please rerun this cell to show the HTML representation or trust the notebook. <br />On GitHub, the HTML representation is unable to render, please try loading this page with nbviewer.org.</b></div><div class=\"sk-container\" hidden><div class=\"sk-item\"><div class=\"sk-estimator sk-toggleable\"><input class=\"sk-toggleable__control sk-hidden--visually\" id=\"sk-estimator-id-1\" type=\"checkbox\" checked><label for=\"sk-estimator-id-1\" class=\"sk-toggleable__label sk-toggleable__label-arrow\">LinearRegression</label><div class=\"sk-toggleable__content\"><pre>LinearRegression()</pre></div></div></div></div></div>"
      ],
      "text/plain": [
       "LinearRegression()"
      ]
     },
     "execution_count": 37,
     "metadata": {},
     "output_type": "execute_result"
    }
   ],
   "source": [
    "from sklearn.linear_model import LinearRegression\n",
    "\n",
    "# instantiating LinearRegression() class\n",
    "ols_model_wG1G2 = LinearRegression()\n",
    "# fitting preprocessed data to linear model with G1G2\n",
    "ols_model_wG1G2.fit(X_train_transformed_wG1G2_df, y_train)"
   ]
  },
  {
   "cell_type": "code",
   "execution_count": 38,
   "id": "b45194d6-cb39-44f6-9c43-f248adf06ab7",
   "metadata": {},
   "outputs": [
    {
     "data": {
      "text/html": [
       "<style>#sk-container-id-2 {color: black;}#sk-container-id-2 pre{padding: 0;}#sk-container-id-2 div.sk-toggleable {background-color: white;}#sk-container-id-2 label.sk-toggleable__label {cursor: pointer;display: block;width: 100%;margin-bottom: 0;padding: 0.3em;box-sizing: border-box;text-align: center;}#sk-container-id-2 label.sk-toggleable__label-arrow:before {content: \"▸\";float: left;margin-right: 0.25em;color: #696969;}#sk-container-id-2 label.sk-toggleable__label-arrow:hover:before {color: black;}#sk-container-id-2 div.sk-estimator:hover label.sk-toggleable__label-arrow:before {color: black;}#sk-container-id-2 div.sk-toggleable__content {max-height: 0;max-width: 0;overflow: hidden;text-align: left;background-color: #f0f8ff;}#sk-container-id-2 div.sk-toggleable__content pre {margin: 0.2em;color: black;border-radius: 0.25em;background-color: #f0f8ff;}#sk-container-id-2 input.sk-toggleable__control:checked~div.sk-toggleable__content {max-height: 200px;max-width: 100%;overflow: auto;}#sk-container-id-2 input.sk-toggleable__control:checked~label.sk-toggleable__label-arrow:before {content: \"▾\";}#sk-container-id-2 div.sk-estimator input.sk-toggleable__control:checked~label.sk-toggleable__label {background-color: #d4ebff;}#sk-container-id-2 div.sk-label input.sk-toggleable__control:checked~label.sk-toggleable__label {background-color: #d4ebff;}#sk-container-id-2 input.sk-hidden--visually {border: 0;clip: rect(1px 1px 1px 1px);clip: rect(1px, 1px, 1px, 1px);height: 1px;margin: -1px;overflow: hidden;padding: 0;position: absolute;width: 1px;}#sk-container-id-2 div.sk-estimator {font-family: monospace;background-color: #f0f8ff;border: 1px dotted black;border-radius: 0.25em;box-sizing: border-box;margin-bottom: 0.5em;}#sk-container-id-2 div.sk-estimator:hover {background-color: #d4ebff;}#sk-container-id-2 div.sk-parallel-item::after {content: \"\";width: 100%;border-bottom: 1px solid gray;flex-grow: 1;}#sk-container-id-2 div.sk-label:hover label.sk-toggleable__label {background-color: #d4ebff;}#sk-container-id-2 div.sk-serial::before {content: \"\";position: absolute;border-left: 1px solid gray;box-sizing: border-box;top: 0;bottom: 0;left: 50%;z-index: 0;}#sk-container-id-2 div.sk-serial {display: flex;flex-direction: column;align-items: center;background-color: white;padding-right: 0.2em;padding-left: 0.2em;position: relative;}#sk-container-id-2 div.sk-item {position: relative;z-index: 1;}#sk-container-id-2 div.sk-parallel {display: flex;align-items: stretch;justify-content: center;background-color: white;position: relative;}#sk-container-id-2 div.sk-item::before, #sk-container-id-2 div.sk-parallel-item::before {content: \"\";position: absolute;border-left: 1px solid gray;box-sizing: border-box;top: 0;bottom: 0;left: 50%;z-index: -1;}#sk-container-id-2 div.sk-parallel-item {display: flex;flex-direction: column;z-index: 1;position: relative;background-color: white;}#sk-container-id-2 div.sk-parallel-item:first-child::after {align-self: flex-end;width: 50%;}#sk-container-id-2 div.sk-parallel-item:last-child::after {align-self: flex-start;width: 50%;}#sk-container-id-2 div.sk-parallel-item:only-child::after {width: 0;}#sk-container-id-2 div.sk-dashed-wrapped {border: 1px dashed gray;margin: 0 0.4em 0.5em 0.4em;box-sizing: border-box;padding-bottom: 0.4em;background-color: white;}#sk-container-id-2 div.sk-label label {font-family: monospace;font-weight: bold;display: inline-block;line-height: 1.2em;}#sk-container-id-2 div.sk-label-container {text-align: center;}#sk-container-id-2 div.sk-container {/* jupyter's `normalize.less` sets `[hidden] { display: none; }` but bootstrap.min.css set `[hidden] { display: none !important; }` so we also need the `!important` here to be able to override the default hidden behavior on the sphinx rendered scikit-learn.org. See: https://github.com/scikit-learn/scikit-learn/issues/21755 */display: inline-block !important;position: relative;}#sk-container-id-2 div.sk-text-repr-fallback {display: none;}</style><div id=\"sk-container-id-2\" class=\"sk-top-container\"><div class=\"sk-text-repr-fallback\"><pre>LinearRegression()</pre><b>In a Jupyter environment, please rerun this cell to show the HTML representation or trust the notebook. <br />On GitHub, the HTML representation is unable to render, please try loading this page with nbviewer.org.</b></div><div class=\"sk-container\" hidden><div class=\"sk-item\"><div class=\"sk-estimator sk-toggleable\"><input class=\"sk-toggleable__control sk-hidden--visually\" id=\"sk-estimator-id-2\" type=\"checkbox\" checked><label for=\"sk-estimator-id-2\" class=\"sk-toggleable__label sk-toggleable__label-arrow\">LinearRegression</label><div class=\"sk-toggleable__content\"><pre>LinearRegression()</pre></div></div></div></div></div>"
      ],
      "text/plain": [
       "LinearRegression()"
      ]
     },
     "execution_count": 38,
     "metadata": {},
     "output_type": "execute_result"
    }
   ],
   "source": [
    "# instantiating LinearRegression() class\n",
    "ols_model_woG1G2 = LinearRegression()\n",
    "# fitting preprocessed data to linear model without G1G2\n",
    "ols_model_woG1G2.fit(X_train_transformed_woG1G2_df, y_train)"
   ]
  },
  {
   "cell_type": "markdown",
   "id": "a315d704-4a97-4807-a1d3-827fd317624a",
   "metadata": {},
   "source": [
    "### Comparing Ordinary Least Squares Model With and Without the G1G2 Columns with Cross Validation\n",
    "The ols model with G1G2 is the better performing model between the two ols models because it has a lower root mean squared error average of 1.87 vs 4.50."
   ]
  },
  {
   "cell_type": "code",
   "execution_count": 39,
   "id": "4dd9dbb2-b9f8-44d4-95f5-e2ac21c6e4ae",
   "metadata": {},
   "outputs": [],
   "source": [
    "from sklearn.model_selection import cross_val_score\n",
    "\n",
    "# linear regression model (wG1G2) with a 10-fold cross validation\n",
    "ols_model_rmses_wG1G2 = -cross_val_score(ols_model_wG1G2, X_train_transformed_wG1G2_df, y_train,\n",
    "                              scoring=\"neg_root_mean_squared_error\", cv=10)"
   ]
  },
  {
   "cell_type": "code",
   "execution_count": 40,
   "id": "89aa1acb-a7fe-4497-8d88-25be57198f7f",
   "metadata": {},
   "outputs": [
    {
     "data": {
      "text/plain": [
       "count    10.000000\n",
       "mean      1.874885\n",
       "std       0.408058\n",
       "min       1.189420\n",
       "25%       1.670956\n",
       "50%       1.878672\n",
       "75%       1.980897\n",
       "max       2.630797\n",
       "dtype: float64"
      ]
     },
     "execution_count": 40,
     "metadata": {},
     "output_type": "execute_result"
    }
   ],
   "source": [
    "pd.Series(ols_model_rmses_wG1G2).describe()"
   ]
  },
  {
   "cell_type": "code",
   "execution_count": 41,
   "id": "4bf2e22e-57ee-452b-87e1-487b0923da2a",
   "metadata": {},
   "outputs": [],
   "source": [
    "# linear regression model (woG1G2) with a 10-fold cross validation\n",
    "ols_model_rmses_woG1G2 = -cross_val_score(ols_model_woG1G2, X_train_transformed_woG1G2_df, y_train,\n",
    "                              scoring=\"neg_root_mean_squared_error\", cv=10)"
   ]
  },
  {
   "cell_type": "code",
   "execution_count": 42,
   "id": "41a649ca-828c-4e00-b6e3-969e81117899",
   "metadata": {},
   "outputs": [
    {
     "data": {
      "text/plain": [
       "count    10.000000\n",
       "mean      4.498890\n",
       "std       0.561085\n",
       "min       3.440111\n",
       "25%       4.071511\n",
       "50%       4.735462\n",
       "75%       4.928250\n",
       "max       5.057712\n",
       "dtype: float64"
      ]
     },
     "execution_count": 42,
     "metadata": {},
     "output_type": "execute_result"
    }
   ],
   "source": [
    "pd.Series(ols_model_rmses_woG1G2).describe()"
   ]
  },
  {
   "cell_type": "markdown",
   "id": "917ec961-d4d9-4c0f-aea7-d6031bd8e72f",
   "metadata": {},
   "source": [
    "### Model #2: Stochastic Gradient Descent Regression Model With and Without G1 and G2 Columns"
   ]
  },
  {
   "cell_type": "code",
   "execution_count": 43,
   "id": "b757d36c-92c5-4fcf-9e32-0a85fca57d71",
   "metadata": {},
   "outputs": [],
   "source": [
    "from sklearn.linear_model import SGDRegressor\n",
    "\n",
    "# from class notes on sgd models\n",
    "# max_iter = max number of epochs\n",
    "# penalty = regularization term\n",
    "# learning_rate = constant\n",
    "# n_iter_no_change = number of iterations without improvement before stopping\n",
    "\n",
    "# instantiating SDGRegressor() for stochastic gradient descent model \n",
    "sgd_model = SGDRegressor(max_iter=1000, penalty=None, learning_rate='constant',\n",
    "                       n_iter_no_change=100, random_state=42)"
   ]
  },
  {
   "cell_type": "markdown",
   "id": "8f248181-d97f-494f-bf40-b142c71c3e93",
   "metadata": {},
   "source": [
    "## Fine-Tune the System:"
   ]
  },
  {
   "cell_type": "markdown",
   "id": "9d7d222f-b3ec-4421-bdbd-9f956d98daa7",
   "metadata": {},
   "source": [
    "### Grid Search Used to Fine-Tune Hyperparameters of SGD Model"
   ]
  },
  {
   "cell_type": "markdown",
   "id": "aef6567b-2d10-49b5-98f6-26eefa6ffaa7",
   "metadata": {},
   "source": [
    "GridSearchCV automates the process of searching for the best combination of hyperparameters and then saves the best model to sgd_model with or without G1G2 to be able to compare the algorithms in the end."
   ]
  },
  {
   "cell_type": "code",
   "execution_count": 44,
   "id": "b5784539-4f87-46bf-9c12-236cfc2c6de9",
   "metadata": {},
   "outputs": [
    {
     "name": "stdout",
     "output_type": "stream",
     "text": [
      "Fitting 10 folds for each of 12 candidates, totalling 120 fits\n",
      "The best parameters are:  {'eta0': 0.01, 'tol': 0.001}\n"
     ]
    }
   ],
   "source": [
    "from sklearn.model_selection import GridSearchCV\n",
    "\n",
    "# creating a dictionary of hyperparameter values\n",
    "sgd_param_grid = {'eta0': [.05, .01, .09],\n",
    "                  'tol': [1e-1, 1e-3, 1e-5, 1e-7]}\n",
    "\n",
    "# instantiating GridSearchCV()\n",
    "grid_search_cv_sgd = GridSearchCV(sgd_model,\n",
    "                              sgd_param_grid, verbose=1, cv=10)\n",
    "\n",
    "# fitting the grid search model and printing the best parameters\n",
    "grid_search_cv_sgd.fit(X_train_transformed_wG1G2_df, y_train)\n",
    "print(\"The best parameters are: \", grid_search_cv_sgd.best_params_)\n",
    "\n",
    "# saving the best model using the hyperparameters from the grid search\n",
    "sgd_model_wG1G2 = grid_search_cv_sgd.best_estimator_"
   ]
  },
  {
   "cell_type": "code",
   "execution_count": 45,
   "id": "553f61ba-b356-40a8-a545-58356a8e7b72",
   "metadata": {},
   "outputs": [
    {
     "name": "stdout",
     "output_type": "stream",
     "text": [
      "Fitting 10 folds for each of 12 candidates, totalling 120 fits\n",
      "The best parameters are:  {'eta0': 0.01, 'tol': 0.001}\n"
     ]
    }
   ],
   "source": [
    "# creating a dictionary of hyperparameter values\n",
    "sgd_param_grid = {'eta0': [.1, .01, .001],\n",
    "                  'tol': [1e-1, 1e-3, 1e-5, 1e-7]}\n",
    "\n",
    "# instantiating GridSearchCV()\n",
    "grid_search_cv_sgd = GridSearchCV(sgd_model,\n",
    "                              sgd_param_grid, verbose=1, cv=10)\n",
    "\n",
    "# fitting the grid search model and prints the best parameters\n",
    "grid_search_cv_sgd.fit(X_train_transformed_woG1G2_df, y_train)\n",
    "print(\"The best parameters are: \", grid_search_cv_sgd.best_params_)\n",
    "\n",
    "# saving the best model using the hyperparameters from the grid search\n",
    "sgd_model_woG1G2 = grid_search_cv_sgd.best_estimator_"
   ]
  },
  {
   "cell_type": "markdown",
   "id": "bff0625e-ac15-4622-a382-5d43fea3e52c",
   "metadata": {},
   "source": [
    "### Comparing Stochastic Gradient Descent Models With and Without the G1G2 Columns with Cross Validation\n",
    "The sgd model with G1G2 is the better performing model between the two sgd models because it has a lower root mean squared error average of 1.85 vs 4.47."
   ]
  },
  {
   "cell_type": "code",
   "execution_count": 46,
   "id": "eba0598b-11b2-422d-8499-53017d5959ba",
   "metadata": {},
   "outputs": [],
   "source": [
    "# sgd model wG1G2 and a 10-fold cross validation\n",
    "sgd_model_rmses_wG1G2 = -cross_val_score(sgd_model_wG1G2, X_train_transformed_wG1G2_df, y_train,\n",
    "                              scoring=\"neg_root_mean_squared_error\", cv=10)"
   ]
  },
  {
   "cell_type": "code",
   "execution_count": 47,
   "id": "9b2b2e65-02f7-450b-95e3-1eaae9957391",
   "metadata": {},
   "outputs": [
    {
     "data": {
      "text/plain": [
       "count    10.000000\n",
       "mean      1.858842\n",
       "std       0.436829\n",
       "min       1.157393\n",
       "25%       1.639408\n",
       "50%       1.859638\n",
       "75%       1.957953\n",
       "max       2.645517\n",
       "dtype: float64"
      ]
     },
     "execution_count": 47,
     "metadata": {},
     "output_type": "execute_result"
    }
   ],
   "source": [
    "pd.Series(sgd_model_rmses_wG1G2).describe()"
   ]
  },
  {
   "cell_type": "code",
   "execution_count": 48,
   "id": "a8f02223-7d7a-4278-9336-e374599d6420",
   "metadata": {},
   "outputs": [],
   "source": [
    "# sgd model wG1G2 and a 10-fold cross validation\n",
    "sgd_model_rmses_woG1G2 = -cross_val_score(sgd_model_woG1G2, X_train_transformed_woG1G2_df, y_train,\n",
    "                              scoring=\"neg_root_mean_squared_error\", cv=10)"
   ]
  },
  {
   "cell_type": "code",
   "execution_count": 49,
   "id": "f783eeba-56cc-4961-88de-711b8238b366",
   "metadata": {
    "scrolled": true
   },
   "outputs": [
    {
     "data": {
      "text/plain": [
       "count    10.000000\n",
       "mean      4.474688\n",
       "std       0.572744\n",
       "min       3.400398\n",
       "25%       4.050521\n",
       "50%       4.790134\n",
       "75%       4.894226\n",
       "max       5.023795\n",
       "dtype: float64"
      ]
     },
     "execution_count": 49,
     "metadata": {},
     "output_type": "execute_result"
    }
   ],
   "source": [
    "pd.Series(sgd_model_rmses_woG1G2).describe()"
   ]
  },
  {
   "cell_type": "markdown",
   "id": "7059d9bb-7c25-48fe-af8a-4da8a70c096d",
   "metadata": {},
   "source": [
    "### Model #3: Ridge Regression Models With and Without G1 and G2 Columns"
   ]
  },
  {
   "cell_type": "code",
   "execution_count": 50,
   "id": "997ae97f-bdf0-45e2-833e-bebdb2dc086b",
   "metadata": {},
   "outputs": [],
   "source": [
    "from sklearn.linear_model import Ridge\n",
    "\n",
    "# instantiating RidgeRegression() class\n",
    "ridge_model = Ridge(random_state=42)"
   ]
  },
  {
   "cell_type": "markdown",
   "id": "898e2e54-7620-4a27-a4c5-6db7986b6904",
   "metadata": {},
   "source": [
    "### Grid Search Used to fine-tune hyperparameters of Ridge Regression Model\n",
    "GridSearchCV automates the process of searching for the best combination of hyperparameters and then saves the best model to ridge_model with or without G1G2 to be able to compare the algorithms in the end."
   ]
  },
  {
   "cell_type": "code",
   "execution_count": 51,
   "id": "046773ec-1f3d-4641-9ac8-2a4ad859074c",
   "metadata": {},
   "outputs": [
    {
     "name": "stdout",
     "output_type": "stream",
     "text": [
      "Fitting 10 folds for each of 4 candidates, totalling 40 fits\n",
      "The best parameters are:  {'alpha': 1e-07}\n"
     ]
    }
   ],
   "source": [
    "# creating a dictionary of hyperparameter values\n",
    "ridge_param_grid = {'alpha': [1e-1, 1e-3, 1e-5, 1e-7]}\n",
    "\n",
    "# instantiating GridSearchCV()\n",
    "grid_search_cv_ridge = GridSearchCV(ridge_model,\n",
    "                              ridge_param_grid, verbose=1, cv=10)\n",
    "\n",
    "# fitting the grid search model and printes the best parameters\n",
    "grid_search_cv_ridge.fit(X_train_transformed_wG1G2_df, y_train)\n",
    "print(\"The best parameters are: \", grid_search_cv_ridge.best_params_)\n",
    "\n",
    "# saving the best model using the hyperparameters from the grid search\n",
    "ridge_model_wG1G2 = grid_search_cv_ridge.best_estimator_"
   ]
  },
  {
   "cell_type": "code",
   "execution_count": 52,
   "id": "fb42f01c-11ec-4e14-80ca-1844df4aca44",
   "metadata": {
    "scrolled": true
   },
   "outputs": [
    {
     "name": "stdout",
     "output_type": "stream",
     "text": [
      "Fitting 10 folds for each of 8 candidates, totalling 80 fits\n",
      "The best parameters are:  {'alpha': 150}\n"
     ]
    }
   ],
   "source": [
    "# creating a dictionary of hyperparameter values\n",
    "ridge_param_grid = {'alpha': [50, 60, 70, 80, 90, 100, 125, 150]}\n",
    "\n",
    "# instantiating GridSearchCV()\n",
    "grid_search_cv_ridge = GridSearchCV(ridge_model,\n",
    "                              ridge_param_grid, verbose=1, cv=10)\n",
    "\n",
    "# fitting the grid search model and printes the best parameters\n",
    "grid_search_cv_ridge.fit(X_train_transformed_woG1G2_df, y_train)\n",
    "print(\"The best parameters are: \", grid_search_cv_ridge.best_params_)\n",
    "\n",
    "# saving the best model using the hyperparameters from the grid search\n",
    "ridge_model_woG1G2 = grid_search_cv_ridge.best_estimator_"
   ]
  },
  {
   "cell_type": "markdown",
   "id": "8fde34e9-cd02-4104-9bbe-dfd6d6a9bca5",
   "metadata": {},
   "source": [
    "### Comparing Ridge Regression Models With and Without the G1G2 Columns with Cross Validation¶\n",
    "The ridge regression model with G1G2 is the better performing model between the two ridge regression models because it has a lower root mean squared error average of 1.87 vs 4.48."
   ]
  },
  {
   "cell_type": "code",
   "execution_count": 53,
   "id": "de2d6fe9-737f-4e81-b61c-227a655e0f3f",
   "metadata": {},
   "outputs": [
    {
     "data": {
      "text/plain": [
       "count    10.000000\n",
       "mean      1.874885\n",
       "std       0.408058\n",
       "min       1.189420\n",
       "25%       1.670956\n",
       "50%       1.878672\n",
       "75%       1.980897\n",
       "max       2.630797\n",
       "dtype: float64"
      ]
     },
     "execution_count": 53,
     "metadata": {},
     "output_type": "execute_result"
    }
   ],
   "source": [
    "# ridge model with G1G2 and 10-fold cross validation \n",
    "ridge_model_rmses_wG1G2 = -cross_val_score(ridge_model_wG1G2, X_train_transformed_wG1G2_df, y_train,\n",
    "                                scoring=\"neg_root_mean_squared_error\", cv=10)\n",
    "\n",
    "# checking cross validation scores\n",
    "pd.Series(ridge_model_rmses_wG1G2).describe()"
   ]
  },
  {
   "cell_type": "code",
   "execution_count": 54,
   "id": "431cfdaa-bb97-44a3-bd02-82a3e098965c",
   "metadata": {},
   "outputs": [
    {
     "data": {
      "text/plain": [
       "count    10.000000\n",
       "mean      4.476608\n",
       "std       0.585585\n",
       "min       3.478075\n",
       "25%       4.043145\n",
       "50%       4.763027\n",
       "75%       4.925242\n",
       "max       5.079109\n",
       "dtype: float64"
      ]
     },
     "execution_count": 54,
     "metadata": {},
     "output_type": "execute_result"
    }
   ],
   "source": [
    "# ridge model without G1G2 and 10-fold cross validation \n",
    "ridge_model_rmses_woG1G2 = -cross_val_score(ridge_model_woG1G2, X_train_transformed_woG1G2_df, y_train,\n",
    "                              scoring=\"neg_root_mean_squared_error\", cv=10)\n",
    "\n",
    "# checking cross validation scores\n",
    "pd.Series(ridge_model_rmses_woG1G2).describe()"
   ]
  },
  {
   "cell_type": "markdown",
   "id": "d8e8838a-986a-46cc-a490-37ea7cf1878b",
   "metadata": {},
   "source": [
    "### Model #4: Random Forest Regressor Models With and Without G1 and G2 Columns"
   ]
  },
  {
   "cell_type": "code",
   "execution_count": 55,
   "id": "d88d2215-fc37-421c-bd2d-777a03e5ea51",
   "metadata": {},
   "outputs": [
    {
     "data": {
      "text/html": [
       "<style>#sk-container-id-3 {color: black;}#sk-container-id-3 pre{padding: 0;}#sk-container-id-3 div.sk-toggleable {background-color: white;}#sk-container-id-3 label.sk-toggleable__label {cursor: pointer;display: block;width: 100%;margin-bottom: 0;padding: 0.3em;box-sizing: border-box;text-align: center;}#sk-container-id-3 label.sk-toggleable__label-arrow:before {content: \"▸\";float: left;margin-right: 0.25em;color: #696969;}#sk-container-id-3 label.sk-toggleable__label-arrow:hover:before {color: black;}#sk-container-id-3 div.sk-estimator:hover label.sk-toggleable__label-arrow:before {color: black;}#sk-container-id-3 div.sk-toggleable__content {max-height: 0;max-width: 0;overflow: hidden;text-align: left;background-color: #f0f8ff;}#sk-container-id-3 div.sk-toggleable__content pre {margin: 0.2em;color: black;border-radius: 0.25em;background-color: #f0f8ff;}#sk-container-id-3 input.sk-toggleable__control:checked~div.sk-toggleable__content {max-height: 200px;max-width: 100%;overflow: auto;}#sk-container-id-3 input.sk-toggleable__control:checked~label.sk-toggleable__label-arrow:before {content: \"▾\";}#sk-container-id-3 div.sk-estimator input.sk-toggleable__control:checked~label.sk-toggleable__label {background-color: #d4ebff;}#sk-container-id-3 div.sk-label input.sk-toggleable__control:checked~label.sk-toggleable__label {background-color: #d4ebff;}#sk-container-id-3 input.sk-hidden--visually {border: 0;clip: rect(1px 1px 1px 1px);clip: rect(1px, 1px, 1px, 1px);height: 1px;margin: -1px;overflow: hidden;padding: 0;position: absolute;width: 1px;}#sk-container-id-3 div.sk-estimator {font-family: monospace;background-color: #f0f8ff;border: 1px dotted black;border-radius: 0.25em;box-sizing: border-box;margin-bottom: 0.5em;}#sk-container-id-3 div.sk-estimator:hover {background-color: #d4ebff;}#sk-container-id-3 div.sk-parallel-item::after {content: \"\";width: 100%;border-bottom: 1px solid gray;flex-grow: 1;}#sk-container-id-3 div.sk-label:hover label.sk-toggleable__label {background-color: #d4ebff;}#sk-container-id-3 div.sk-serial::before {content: \"\";position: absolute;border-left: 1px solid gray;box-sizing: border-box;top: 0;bottom: 0;left: 50%;z-index: 0;}#sk-container-id-3 div.sk-serial {display: flex;flex-direction: column;align-items: center;background-color: white;padding-right: 0.2em;padding-left: 0.2em;position: relative;}#sk-container-id-3 div.sk-item {position: relative;z-index: 1;}#sk-container-id-3 div.sk-parallel {display: flex;align-items: stretch;justify-content: center;background-color: white;position: relative;}#sk-container-id-3 div.sk-item::before, #sk-container-id-3 div.sk-parallel-item::before {content: \"\";position: absolute;border-left: 1px solid gray;box-sizing: border-box;top: 0;bottom: 0;left: 50%;z-index: -1;}#sk-container-id-3 div.sk-parallel-item {display: flex;flex-direction: column;z-index: 1;position: relative;background-color: white;}#sk-container-id-3 div.sk-parallel-item:first-child::after {align-self: flex-end;width: 50%;}#sk-container-id-3 div.sk-parallel-item:last-child::after {align-self: flex-start;width: 50%;}#sk-container-id-3 div.sk-parallel-item:only-child::after {width: 0;}#sk-container-id-3 div.sk-dashed-wrapped {border: 1px dashed gray;margin: 0 0.4em 0.5em 0.4em;box-sizing: border-box;padding-bottom: 0.4em;background-color: white;}#sk-container-id-3 div.sk-label label {font-family: monospace;font-weight: bold;display: inline-block;line-height: 1.2em;}#sk-container-id-3 div.sk-label-container {text-align: center;}#sk-container-id-3 div.sk-container {/* jupyter's `normalize.less` sets `[hidden] { display: none; }` but bootstrap.min.css set `[hidden] { display: none !important; }` so we also need the `!important` here to be able to override the default hidden behavior on the sphinx rendered scikit-learn.org. See: https://github.com/scikit-learn/scikit-learn/issues/21755 */display: inline-block !important;position: relative;}#sk-container-id-3 div.sk-text-repr-fallback {display: none;}</style><div id=\"sk-container-id-3\" class=\"sk-top-container\"><div class=\"sk-text-repr-fallback\"><pre>RandomForestRegressor(random_state=42)</pre><b>In a Jupyter environment, please rerun this cell to show the HTML representation or trust the notebook. <br />On GitHub, the HTML representation is unable to render, please try loading this page with nbviewer.org.</b></div><div class=\"sk-container\" hidden><div class=\"sk-item\"><div class=\"sk-estimator sk-toggleable\"><input class=\"sk-toggleable__control sk-hidden--visually\" id=\"sk-estimator-id-3\" type=\"checkbox\" checked><label for=\"sk-estimator-id-3\" class=\"sk-toggleable__label sk-toggleable__label-arrow\">RandomForestRegressor</label><div class=\"sk-toggleable__content\"><pre>RandomForestRegressor(random_state=42)</pre></div></div></div></div></div>"
      ],
      "text/plain": [
       "RandomForestRegressor(random_state=42)"
      ]
     },
     "execution_count": 55,
     "metadata": {},
     "output_type": "execute_result"
    }
   ],
   "source": [
    "from sklearn.ensemble import RandomForestRegressor\n",
    "\n",
    "# instantiating a RandomForestRegressor class\n",
    "forest_reg_wG1G2 = RandomForestRegressor(random_state=42)\n",
    "\n",
    "# fitting the model\n",
    "forest_reg_wG1G2.fit(X_train_transformed_wG1G2_df, y_train)"
   ]
  },
  {
   "cell_type": "code",
   "execution_count": 56,
   "id": "2c6321ff-25a5-4f48-86dd-f2b367f44d48",
   "metadata": {},
   "outputs": [
    {
     "data": {
      "text/html": [
       "<style>#sk-container-id-4 {color: black;}#sk-container-id-4 pre{padding: 0;}#sk-container-id-4 div.sk-toggleable {background-color: white;}#sk-container-id-4 label.sk-toggleable__label {cursor: pointer;display: block;width: 100%;margin-bottom: 0;padding: 0.3em;box-sizing: border-box;text-align: center;}#sk-container-id-4 label.sk-toggleable__label-arrow:before {content: \"▸\";float: left;margin-right: 0.25em;color: #696969;}#sk-container-id-4 label.sk-toggleable__label-arrow:hover:before {color: black;}#sk-container-id-4 div.sk-estimator:hover label.sk-toggleable__label-arrow:before {color: black;}#sk-container-id-4 div.sk-toggleable__content {max-height: 0;max-width: 0;overflow: hidden;text-align: left;background-color: #f0f8ff;}#sk-container-id-4 div.sk-toggleable__content pre {margin: 0.2em;color: black;border-radius: 0.25em;background-color: #f0f8ff;}#sk-container-id-4 input.sk-toggleable__control:checked~div.sk-toggleable__content {max-height: 200px;max-width: 100%;overflow: auto;}#sk-container-id-4 input.sk-toggleable__control:checked~label.sk-toggleable__label-arrow:before {content: \"▾\";}#sk-container-id-4 div.sk-estimator input.sk-toggleable__control:checked~label.sk-toggleable__label {background-color: #d4ebff;}#sk-container-id-4 div.sk-label input.sk-toggleable__control:checked~label.sk-toggleable__label {background-color: #d4ebff;}#sk-container-id-4 input.sk-hidden--visually {border: 0;clip: rect(1px 1px 1px 1px);clip: rect(1px, 1px, 1px, 1px);height: 1px;margin: -1px;overflow: hidden;padding: 0;position: absolute;width: 1px;}#sk-container-id-4 div.sk-estimator {font-family: monospace;background-color: #f0f8ff;border: 1px dotted black;border-radius: 0.25em;box-sizing: border-box;margin-bottom: 0.5em;}#sk-container-id-4 div.sk-estimator:hover {background-color: #d4ebff;}#sk-container-id-4 div.sk-parallel-item::after {content: \"\";width: 100%;border-bottom: 1px solid gray;flex-grow: 1;}#sk-container-id-4 div.sk-label:hover label.sk-toggleable__label {background-color: #d4ebff;}#sk-container-id-4 div.sk-serial::before {content: \"\";position: absolute;border-left: 1px solid gray;box-sizing: border-box;top: 0;bottom: 0;left: 50%;z-index: 0;}#sk-container-id-4 div.sk-serial {display: flex;flex-direction: column;align-items: center;background-color: white;padding-right: 0.2em;padding-left: 0.2em;position: relative;}#sk-container-id-4 div.sk-item {position: relative;z-index: 1;}#sk-container-id-4 div.sk-parallel {display: flex;align-items: stretch;justify-content: center;background-color: white;position: relative;}#sk-container-id-4 div.sk-item::before, #sk-container-id-4 div.sk-parallel-item::before {content: \"\";position: absolute;border-left: 1px solid gray;box-sizing: border-box;top: 0;bottom: 0;left: 50%;z-index: -1;}#sk-container-id-4 div.sk-parallel-item {display: flex;flex-direction: column;z-index: 1;position: relative;background-color: white;}#sk-container-id-4 div.sk-parallel-item:first-child::after {align-self: flex-end;width: 50%;}#sk-container-id-4 div.sk-parallel-item:last-child::after {align-self: flex-start;width: 50%;}#sk-container-id-4 div.sk-parallel-item:only-child::after {width: 0;}#sk-container-id-4 div.sk-dashed-wrapped {border: 1px dashed gray;margin: 0 0.4em 0.5em 0.4em;box-sizing: border-box;padding-bottom: 0.4em;background-color: white;}#sk-container-id-4 div.sk-label label {font-family: monospace;font-weight: bold;display: inline-block;line-height: 1.2em;}#sk-container-id-4 div.sk-label-container {text-align: center;}#sk-container-id-4 div.sk-container {/* jupyter's `normalize.less` sets `[hidden] { display: none; }` but bootstrap.min.css set `[hidden] { display: none !important; }` so we also need the `!important` here to be able to override the default hidden behavior on the sphinx rendered scikit-learn.org. See: https://github.com/scikit-learn/scikit-learn/issues/21755 */display: inline-block !important;position: relative;}#sk-container-id-4 div.sk-text-repr-fallback {display: none;}</style><div id=\"sk-container-id-4\" class=\"sk-top-container\"><div class=\"sk-text-repr-fallback\"><pre>RandomForestRegressor(random_state=42)</pre><b>In a Jupyter environment, please rerun this cell to show the HTML representation or trust the notebook. <br />On GitHub, the HTML representation is unable to render, please try loading this page with nbviewer.org.</b></div><div class=\"sk-container\" hidden><div class=\"sk-item\"><div class=\"sk-estimator sk-toggleable\"><input class=\"sk-toggleable__control sk-hidden--visually\" id=\"sk-estimator-id-4\" type=\"checkbox\" checked><label for=\"sk-estimator-id-4\" class=\"sk-toggleable__label sk-toggleable__label-arrow\">RandomForestRegressor</label><div class=\"sk-toggleable__content\"><pre>RandomForestRegressor(random_state=42)</pre></div></div></div></div></div>"
      ],
      "text/plain": [
       "RandomForestRegressor(random_state=42)"
      ]
     },
     "execution_count": 56,
     "metadata": {},
     "output_type": "execute_result"
    }
   ],
   "source": [
    "# instantiating a RandomForestRegressor class\n",
    "forest_reg_woG1G2 = RandomForestRegressor(random_state=42)\n",
    "\n",
    "# fitting the model\n",
    "forest_reg_woG1G2.fit(X_train_transformed_woG1G2_df, y_train)"
   ]
  },
  {
   "cell_type": "markdown",
   "id": "88c57ac0-f9ea-4a2d-a50e-02d4ddf67ff3",
   "metadata": {},
   "source": [
    "### Comparing Random Forest Regressor Models With and Without the G1G2 Columns with Cross Validation¶\n",
    "The random forest regression model with G1G2 is the better performing model between the two random forest models because it has a lower root mean squared error average of 1.77 vs 4.48.  Including the G1 and G2 columns in our model increasing it's performance by 39.9%.  The random forest model with G1 and G2 is also the best performing model out of all four models with the lowest average RMSE and will be selected as the final model."
   ]
  },
  {
   "cell_type": "code",
   "execution_count": 57,
   "id": "20b1c721-a8e9-455e-a16a-b1c9f612101e",
   "metadata": {},
   "outputs": [
    {
     "data": {
      "text/plain": [
       "count    10.000000\n",
       "mean      1.765773\n",
       "std       0.441987\n",
       "min       1.164237\n",
       "25%       1.563400\n",
       "50%       1.751416\n",
       "75%       2.021450\n",
       "max       2.634462\n",
       "dtype: float64"
      ]
     },
     "execution_count": 57,
     "metadata": {},
     "output_type": "execute_result"
    }
   ],
   "source": [
    "# random forest model with G1G2 and 10-fold cross validation \n",
    "rmse_forest_wG1G2 = -cross_val_score(forest_reg_wG1G2, X_train_transformed_wG1G2_df, y_train,\n",
    "                                scoring=\"neg_root_mean_squared_error\", cv=10)\n",
    "\n",
    "# check cross validation scores\n",
    "pd.Series(rmse_forest_wG1G2).describe()"
   ]
  },
  {
   "cell_type": "code",
   "execution_count": 58,
   "id": "93d6a07a-b1cd-409f-9d4c-dffe0e89e901",
   "metadata": {},
   "outputs": [
    {
     "data": {
      "text/plain": [
       "count    10.000000\n",
       "mean      4.483325\n",
       "std       0.799540\n",
       "min       2.978485\n",
       "25%       3.907336\n",
       "50%       4.642385\n",
       "75%       5.075614\n",
       "max       5.421725\n",
       "dtype: float64"
      ]
     },
     "execution_count": 58,
     "metadata": {},
     "output_type": "execute_result"
    }
   ],
   "source": [
    "# ridge model without G1G2 and 10-fold cross validation \n",
    "rmse_forest_woG1G2 = -cross_val_score(forest_reg_woG1G2, X_train_transformed_woG1G2_df, y_train,\n",
    "                                scoring=\"neg_root_mean_squared_error\", cv=10)\n",
    "\n",
    "# checking cross validation scores\n",
    "pd.Series(rmse_forest_woG1G2).describe()"
   ]
  },
  {
   "cell_type": "markdown",
   "id": "aa24d0a2-7f28-4d8b-9b8d-90713c8dd093",
   "metadata": {},
   "source": [
    "The Random Forrest Regression model with the G1 and G2 columns is the best model (lowest average Root Mean Square Error, RMSE) based on training data with cross validation out of the 4 models that were compared by the performance metric of RMSE."
   ]
  },
  {
   "cell_type": "markdown",
   "id": "05732726-e025-484e-be08-cb0fd106b822",
   "metadata": {},
   "source": [
    "### Transform Testing Data Using Data Preparation Pipelines"
   ]
  },
  {
   "cell_type": "code",
   "execution_count": 59,
   "id": "e2abf95c-9211-44cb-aacf-428535f5a94c",
   "metadata": {},
   "outputs": [],
   "source": [
    "# transforming X_test data thru the preprocessing pipeline from before\n",
    "X_test_prepared = preprocessing.transform(X_test)"
   ]
  },
  {
   "cell_type": "code",
   "execution_count": 60,
   "id": "24b04b10-a1c1-415e-8526-c6252c74a77f",
   "metadata": {},
   "outputs": [
    {
     "data": {
      "text/html": [
       "<div>\n",
       "<style scoped>\n",
       "    .dataframe tbody tr th:only-of-type {\n",
       "        vertical-align: middle;\n",
       "    }\n",
       "\n",
       "    .dataframe tbody tr th {\n",
       "        vertical-align: top;\n",
       "    }\n",
       "\n",
       "    .dataframe thead th {\n",
       "        text-align: right;\n",
       "    }\n",
       "</style>\n",
       "<table border=\"1\" class=\"dataframe\">\n",
       "  <thead>\n",
       "    <tr style=\"text-align: right;\">\n",
       "      <th></th>\n",
       "      <th>absences_G1</th>\n",
       "      <th>absences_G2</th>\n",
       "      <th>absences_G3</th>\n",
       "      <th>G1</th>\n",
       "      <th>G2</th>\n",
       "      <th>address</th>\n",
       "      <th>traveltime</th>\n",
       "      <th>higher</th>\n",
       "      <th>internet</th>\n",
       "    </tr>\n",
       "  </thead>\n",
       "  <tbody>\n",
       "    <tr>\n",
       "      <th>0</th>\n",
       "      <td>0.000000</td>\n",
       "      <td>0.000000</td>\n",
       "      <td>0.039216</td>\n",
       "      <td>0.214286</td>\n",
       "      <td>0.421053</td>\n",
       "      <td>1.0</td>\n",
       "      <td>1.0</td>\n",
       "      <td>0.0</td>\n",
       "      <td>1.0</td>\n",
       "    </tr>\n",
       "    <tr>\n",
       "      <th>1</th>\n",
       "      <td>0.000000</td>\n",
       "      <td>0.000000</td>\n",
       "      <td>0.058824</td>\n",
       "      <td>0.642857</td>\n",
       "      <td>0.631579</td>\n",
       "      <td>0.0</td>\n",
       "      <td>2.0</td>\n",
       "      <td>0.0</td>\n",
       "      <td>1.0</td>\n",
       "    </tr>\n",
       "    <tr>\n",
       "      <th>2</th>\n",
       "      <td>0.083333</td>\n",
       "      <td>0.083333</td>\n",
       "      <td>0.117647</td>\n",
       "      <td>-0.142857</td>\n",
       "      <td>0.263158</td>\n",
       "      <td>0.0</td>\n",
       "      <td>0.0</td>\n",
       "      <td>1.0</td>\n",
       "      <td>1.0</td>\n",
       "    </tr>\n",
       "    <tr>\n",
       "      <th>3</th>\n",
       "      <td>0.083333</td>\n",
       "      <td>0.083333</td>\n",
       "      <td>0.117647</td>\n",
       "      <td>0.214286</td>\n",
       "      <td>0.473684</td>\n",
       "      <td>1.0</td>\n",
       "      <td>0.0</td>\n",
       "      <td>1.0</td>\n",
       "      <td>1.0</td>\n",
       "    </tr>\n",
       "    <tr>\n",
       "      <th>4</th>\n",
       "      <td>0.083333</td>\n",
       "      <td>0.083333</td>\n",
       "      <td>0.176471</td>\n",
       "      <td>0.285714</td>\n",
       "      <td>0.473684</td>\n",
       "      <td>1.0</td>\n",
       "      <td>0.0</td>\n",
       "      <td>1.0</td>\n",
       "      <td>0.0</td>\n",
       "    </tr>\n",
       "    <tr>\n",
       "      <th>...</th>\n",
       "      <td>...</td>\n",
       "      <td>...</td>\n",
       "      <td>...</td>\n",
       "      <td>...</td>\n",
       "      <td>...</td>\n",
       "      <td>...</td>\n",
       "      <td>...</td>\n",
       "      <td>...</td>\n",
       "      <td>...</td>\n",
       "    </tr>\n",
       "    <tr>\n",
       "      <th>74</th>\n",
       "      <td>0.000000</td>\n",
       "      <td>0.000000</td>\n",
       "      <td>0.000000</td>\n",
       "      <td>0.500000</td>\n",
       "      <td>0.578947</td>\n",
       "      <td>0.0</td>\n",
       "      <td>1.0</td>\n",
       "      <td>1.0</td>\n",
       "      <td>0.0</td>\n",
       "    </tr>\n",
       "    <tr>\n",
       "      <th>75</th>\n",
       "      <td>0.083333</td>\n",
       "      <td>0.083333</td>\n",
       "      <td>0.156863</td>\n",
       "      <td>0.142857</td>\n",
       "      <td>0.315789</td>\n",
       "      <td>1.0</td>\n",
       "      <td>0.0</td>\n",
       "      <td>1.0</td>\n",
       "      <td>1.0</td>\n",
       "    </tr>\n",
       "    <tr>\n",
       "      <th>76</th>\n",
       "      <td>0.083333</td>\n",
       "      <td>0.083333</td>\n",
       "      <td>0.117647</td>\n",
       "      <td>0.285714</td>\n",
       "      <td>0.473684</td>\n",
       "      <td>0.0</td>\n",
       "      <td>0.0</td>\n",
       "      <td>1.0</td>\n",
       "      <td>1.0</td>\n",
       "    </tr>\n",
       "    <tr>\n",
       "      <th>77</th>\n",
       "      <td>0.000000</td>\n",
       "      <td>0.000000</td>\n",
       "      <td>0.039216</td>\n",
       "      <td>0.714286</td>\n",
       "      <td>0.736842</td>\n",
       "      <td>1.0</td>\n",
       "      <td>0.0</td>\n",
       "      <td>1.0</td>\n",
       "      <td>1.0</td>\n",
       "    </tr>\n",
       "    <tr>\n",
       "      <th>78</th>\n",
       "      <td>0.000000</td>\n",
       "      <td>0.000000</td>\n",
       "      <td>0.078431</td>\n",
       "      <td>0.071429</td>\n",
       "      <td>0.263158</td>\n",
       "      <td>1.0</td>\n",
       "      <td>0.0</td>\n",
       "      <td>1.0</td>\n",
       "      <td>1.0</td>\n",
       "    </tr>\n",
       "  </tbody>\n",
       "</table>\n",
       "<p>79 rows × 9 columns</p>\n",
       "</div>"
      ],
      "text/plain": [
       "    absences_G1  absences_G2  absences_G3        G1        G2  address  \\\n",
       "0      0.000000     0.000000     0.039216  0.214286  0.421053      1.0   \n",
       "1      0.000000     0.000000     0.058824  0.642857  0.631579      0.0   \n",
       "2      0.083333     0.083333     0.117647 -0.142857  0.263158      0.0   \n",
       "3      0.083333     0.083333     0.117647  0.214286  0.473684      1.0   \n",
       "4      0.083333     0.083333     0.176471  0.285714  0.473684      1.0   \n",
       "..          ...          ...          ...       ...       ...      ...   \n",
       "74     0.000000     0.000000     0.000000  0.500000  0.578947      0.0   \n",
       "75     0.083333     0.083333     0.156863  0.142857  0.315789      1.0   \n",
       "76     0.083333     0.083333     0.117647  0.285714  0.473684      0.0   \n",
       "77     0.000000     0.000000     0.039216  0.714286  0.736842      1.0   \n",
       "78     0.000000     0.000000     0.078431  0.071429  0.263158      1.0   \n",
       "\n",
       "    traveltime  higher  internet  \n",
       "0          1.0     0.0       1.0  \n",
       "1          2.0     0.0       1.0  \n",
       "2          0.0     1.0       1.0  \n",
       "3          0.0     1.0       1.0  \n",
       "4          0.0     1.0       0.0  \n",
       "..         ...     ...       ...  \n",
       "74         1.0     1.0       0.0  \n",
       "75         0.0     1.0       1.0  \n",
       "76         0.0     1.0       1.0  \n",
       "77         0.0     1.0       1.0  \n",
       "78         0.0     1.0       1.0  \n",
       "\n",
       "[79 rows x 9 columns]"
      ]
     },
     "execution_count": 60,
     "metadata": {},
     "output_type": "execute_result"
    }
   ],
   "source": [
    "# converting X_train_prepared from numpy array to DataFrame\n",
    "X_test_prepared_df = pd.DataFrame(X_test_prepared, columns=num_attributes + cat_attributes)\n",
    "X_test_prepared_df"
   ]
  },
  {
   "cell_type": "code",
   "execution_count": 61,
   "id": "19e21b4b-35df-49aa-95f2-e7815a386a77",
   "metadata": {},
   "outputs": [
    {
     "name": "stdout",
     "output_type": "stream",
     "text": [
      "Shape of transformed training set without G1/G2 columns: (79, 5)\n",
      "Shape of transformed training set with G1/G2 columns: (79, 7)\n"
     ]
    }
   ],
   "source": [
    "# transforming the testing data using the pipelines\n",
    "X_test_transformed_woG1G2 = preprocessing_woG1G2.transform(X_test_prepared_df)\n",
    "X_test_transformed_wG1G2 = preprocessing_wG1G2.transform(X_test_prepared_df)\n",
    "\n",
    "# outputting the shapes of the transformed testing sets\n",
    "print(\"Shape of transformed training set without G1/G2 columns:\", X_test_transformed_woG1G2.shape)\n",
    "print(\"Shape of transformed training set with G1/G2 columns:\", X_test_transformed_wG1G2.shape)"
   ]
  },
  {
   "cell_type": "code",
   "execution_count": 62,
   "id": "fe3c51e9-7396-49ad-bfd4-8d2da2249e13",
   "metadata": {
    "scrolled": true
   },
   "outputs": [
    {
     "data": {
      "text/html": [
       "<div>\n",
       "<style scoped>\n",
       "    .dataframe tbody tr th:only-of-type {\n",
       "        vertical-align: middle;\n",
       "    }\n",
       "\n",
       "    .dataframe tbody tr th {\n",
       "        vertical-align: top;\n",
       "    }\n",
       "\n",
       "    .dataframe thead th {\n",
       "        text-align: right;\n",
       "    }\n",
       "</style>\n",
       "<table border=\"1\" class=\"dataframe\">\n",
       "  <thead>\n",
       "    <tr style=\"text-align: right;\">\n",
       "      <th></th>\n",
       "      <th>0</th>\n",
       "      <th>1</th>\n",
       "      <th>2</th>\n",
       "      <th>3</th>\n",
       "      <th>4</th>\n",
       "    </tr>\n",
       "  </thead>\n",
       "  <tbody>\n",
       "    <tr>\n",
       "      <th>0</th>\n",
       "      <td>0.528538</td>\n",
       "      <td>0.828236</td>\n",
       "      <td>-4.068852</td>\n",
       "      <td>0.438694</td>\n",
       "      <td>-0.484361</td>\n",
       "    </tr>\n",
       "    <tr>\n",
       "      <th>1</th>\n",
       "      <td>-1.892012</td>\n",
       "      <td>2.282252</td>\n",
       "      <td>-4.068852</td>\n",
       "      <td>0.438694</td>\n",
       "      <td>-0.425684</td>\n",
       "    </tr>\n",
       "    <tr>\n",
       "      <th>2</th>\n",
       "      <td>-1.892012</td>\n",
       "      <td>-0.625779</td>\n",
       "      <td>0.245770</td>\n",
       "      <td>0.438694</td>\n",
       "      <td>0.249097</td>\n",
       "    </tr>\n",
       "    <tr>\n",
       "      <th>3</th>\n",
       "      <td>0.528538</td>\n",
       "      <td>-0.625779</td>\n",
       "      <td>0.245770</td>\n",
       "      <td>0.438694</td>\n",
       "      <td>0.249097</td>\n",
       "    </tr>\n",
       "    <tr>\n",
       "      <th>4</th>\n",
       "      <td>0.528538</td>\n",
       "      <td>-0.625779</td>\n",
       "      <td>0.245770</td>\n",
       "      <td>-2.279491</td>\n",
       "      <td>0.425127</td>\n",
       "    </tr>\n",
       "    <tr>\n",
       "      <th>...</th>\n",
       "      <td>...</td>\n",
       "      <td>...</td>\n",
       "      <td>...</td>\n",
       "      <td>...</td>\n",
       "      <td>...</td>\n",
       "    </tr>\n",
       "    <tr>\n",
       "      <th>74</th>\n",
       "      <td>-1.892012</td>\n",
       "      <td>0.828236</td>\n",
       "      <td>0.245770</td>\n",
       "      <td>-2.279491</td>\n",
       "      <td>-0.601714</td>\n",
       "    </tr>\n",
       "    <tr>\n",
       "      <th>75</th>\n",
       "      <td>0.528538</td>\n",
       "      <td>-0.625779</td>\n",
       "      <td>0.245770</td>\n",
       "      <td>0.438694</td>\n",
       "      <td>0.366451</td>\n",
       "    </tr>\n",
       "    <tr>\n",
       "      <th>76</th>\n",
       "      <td>-1.892012</td>\n",
       "      <td>-0.625779</td>\n",
       "      <td>0.245770</td>\n",
       "      <td>0.438694</td>\n",
       "      <td>0.249097</td>\n",
       "    </tr>\n",
       "    <tr>\n",
       "      <th>77</th>\n",
       "      <td>0.528538</td>\n",
       "      <td>-0.625779</td>\n",
       "      <td>0.245770</td>\n",
       "      <td>0.438694</td>\n",
       "      <td>-0.484361</td>\n",
       "    </tr>\n",
       "    <tr>\n",
       "      <th>78</th>\n",
       "      <td>0.528538</td>\n",
       "      <td>-0.625779</td>\n",
       "      <td>0.245770</td>\n",
       "      <td>0.438694</td>\n",
       "      <td>-0.367008</td>\n",
       "    </tr>\n",
       "  </tbody>\n",
       "</table>\n",
       "<p>79 rows × 5 columns</p>\n",
       "</div>"
      ],
      "text/plain": [
       "           0         1         2         3         4\n",
       "0   0.528538  0.828236 -4.068852  0.438694 -0.484361\n",
       "1  -1.892012  2.282252 -4.068852  0.438694 -0.425684\n",
       "2  -1.892012 -0.625779  0.245770  0.438694  0.249097\n",
       "3   0.528538 -0.625779  0.245770  0.438694  0.249097\n",
       "4   0.528538 -0.625779  0.245770 -2.279491  0.425127\n",
       "..       ...       ...       ...       ...       ...\n",
       "74 -1.892012  0.828236  0.245770 -2.279491 -0.601714\n",
       "75  0.528538 -0.625779  0.245770  0.438694  0.366451\n",
       "76 -1.892012 -0.625779  0.245770  0.438694  0.249097\n",
       "77  0.528538 -0.625779  0.245770  0.438694 -0.484361\n",
       "78  0.528538 -0.625779  0.245770  0.438694 -0.367008\n",
       "\n",
       "[79 rows x 5 columns]"
      ]
     },
     "execution_count": 62,
     "metadata": {},
     "output_type": "execute_result"
    }
   ],
   "source": [
    "# converting X_train_transformed_wG1G2 to a dataframe\n",
    "X_test_transformed_woG1G2_df = pd.DataFrame(X_test_transformed_woG1G2)\n",
    "X_test_transformed_woG1G2_df"
   ]
  },
  {
   "cell_type": "code",
   "execution_count": 63,
   "id": "565174f6-3c70-44fd-bab9-38bf4bb3fcae",
   "metadata": {},
   "outputs": [
    {
     "data": {
      "text/html": [
       "<div>\n",
       "<style scoped>\n",
       "    .dataframe tbody tr th:only-of-type {\n",
       "        vertical-align: middle;\n",
       "    }\n",
       "\n",
       "    .dataframe tbody tr th {\n",
       "        vertical-align: top;\n",
       "    }\n",
       "\n",
       "    .dataframe thead th {\n",
       "        text-align: right;\n",
       "    }\n",
       "</style>\n",
       "<table border=\"1\" class=\"dataframe\">\n",
       "  <thead>\n",
       "    <tr style=\"text-align: right;\">\n",
       "      <th></th>\n",
       "      <th>address</th>\n",
       "      <th>traveltime</th>\n",
       "      <th>higher</th>\n",
       "      <th>internet</th>\n",
       "      <th>total_absences</th>\n",
       "    </tr>\n",
       "  </thead>\n",
       "  <tbody>\n",
       "    <tr>\n",
       "      <th>0</th>\n",
       "      <td>0.528538</td>\n",
       "      <td>0.828236</td>\n",
       "      <td>-4.068852</td>\n",
       "      <td>0.438694</td>\n",
       "      <td>-0.484361</td>\n",
       "    </tr>\n",
       "    <tr>\n",
       "      <th>1</th>\n",
       "      <td>-1.892012</td>\n",
       "      <td>2.282252</td>\n",
       "      <td>-4.068852</td>\n",
       "      <td>0.438694</td>\n",
       "      <td>-0.425684</td>\n",
       "    </tr>\n",
       "    <tr>\n",
       "      <th>2</th>\n",
       "      <td>-1.892012</td>\n",
       "      <td>-0.625779</td>\n",
       "      <td>0.245770</td>\n",
       "      <td>0.438694</td>\n",
       "      <td>0.249097</td>\n",
       "    </tr>\n",
       "    <tr>\n",
       "      <th>3</th>\n",
       "      <td>0.528538</td>\n",
       "      <td>-0.625779</td>\n",
       "      <td>0.245770</td>\n",
       "      <td>0.438694</td>\n",
       "      <td>0.249097</td>\n",
       "    </tr>\n",
       "    <tr>\n",
       "      <th>4</th>\n",
       "      <td>0.528538</td>\n",
       "      <td>-0.625779</td>\n",
       "      <td>0.245770</td>\n",
       "      <td>-2.279491</td>\n",
       "      <td>0.425127</td>\n",
       "    </tr>\n",
       "    <tr>\n",
       "      <th>...</th>\n",
       "      <td>...</td>\n",
       "      <td>...</td>\n",
       "      <td>...</td>\n",
       "      <td>...</td>\n",
       "      <td>...</td>\n",
       "    </tr>\n",
       "    <tr>\n",
       "      <th>74</th>\n",
       "      <td>-1.892012</td>\n",
       "      <td>0.828236</td>\n",
       "      <td>0.245770</td>\n",
       "      <td>-2.279491</td>\n",
       "      <td>-0.601714</td>\n",
       "    </tr>\n",
       "    <tr>\n",
       "      <th>75</th>\n",
       "      <td>0.528538</td>\n",
       "      <td>-0.625779</td>\n",
       "      <td>0.245770</td>\n",
       "      <td>0.438694</td>\n",
       "      <td>0.366451</td>\n",
       "    </tr>\n",
       "    <tr>\n",
       "      <th>76</th>\n",
       "      <td>-1.892012</td>\n",
       "      <td>-0.625779</td>\n",
       "      <td>0.245770</td>\n",
       "      <td>0.438694</td>\n",
       "      <td>0.249097</td>\n",
       "    </tr>\n",
       "    <tr>\n",
       "      <th>77</th>\n",
       "      <td>0.528538</td>\n",
       "      <td>-0.625779</td>\n",
       "      <td>0.245770</td>\n",
       "      <td>0.438694</td>\n",
       "      <td>-0.484361</td>\n",
       "    </tr>\n",
       "    <tr>\n",
       "      <th>78</th>\n",
       "      <td>0.528538</td>\n",
       "      <td>-0.625779</td>\n",
       "      <td>0.245770</td>\n",
       "      <td>0.438694</td>\n",
       "      <td>-0.367008</td>\n",
       "    </tr>\n",
       "  </tbody>\n",
       "</table>\n",
       "<p>79 rows × 5 columns</p>\n",
       "</div>"
      ],
      "text/plain": [
       "     address  traveltime    higher  internet  total_absences\n",
       "0   0.528538    0.828236 -4.068852  0.438694       -0.484361\n",
       "1  -1.892012    2.282252 -4.068852  0.438694       -0.425684\n",
       "2  -1.892012   -0.625779  0.245770  0.438694        0.249097\n",
       "3   0.528538   -0.625779  0.245770  0.438694        0.249097\n",
       "4   0.528538   -0.625779  0.245770 -2.279491        0.425127\n",
       "..       ...         ...       ...       ...             ...\n",
       "74 -1.892012    0.828236  0.245770 -2.279491       -0.601714\n",
       "75  0.528538   -0.625779  0.245770  0.438694        0.366451\n",
       "76 -1.892012   -0.625779  0.245770  0.438694        0.249097\n",
       "77  0.528538   -0.625779  0.245770  0.438694       -0.484361\n",
       "78  0.528538   -0.625779  0.245770  0.438694       -0.367008\n",
       "\n",
       "[79 rows x 5 columns]"
      ]
     },
     "execution_count": 63,
     "metadata": {},
     "output_type": "execute_result"
    }
   ],
   "source": [
    "# correct column names\n",
    "correct_column_names_woG1G2= ['address', 'traveltime', 'higher','internet','total_absences']\n",
    "\n",
    "# reassigning the correct column names to the DataFrame\n",
    "X_test_transformed_woG1G2_df.columns = correct_column_names_woG1G2\n",
    "X_test_transformed_woG1G2_df"
   ]
  },
  {
   "cell_type": "code",
   "execution_count": 64,
   "id": "9c284fdc-516a-4bbc-beb1-3513309a15ac",
   "metadata": {},
   "outputs": [
    {
     "data": {
      "text/html": [
       "<div>\n",
       "<style scoped>\n",
       "    .dataframe tbody tr th:only-of-type {\n",
       "        vertical-align: middle;\n",
       "    }\n",
       "\n",
       "    .dataframe tbody tr th {\n",
       "        vertical-align: top;\n",
       "    }\n",
       "\n",
       "    .dataframe thead th {\n",
       "        text-align: right;\n",
       "    }\n",
       "</style>\n",
       "<table border=\"1\" class=\"dataframe\">\n",
       "  <thead>\n",
       "    <tr style=\"text-align: right;\">\n",
       "      <th></th>\n",
       "      <th>0</th>\n",
       "      <th>1</th>\n",
       "      <th>2</th>\n",
       "      <th>3</th>\n",
       "      <th>4</th>\n",
       "      <th>5</th>\n",
       "      <th>6</th>\n",
       "    </tr>\n",
       "  </thead>\n",
       "  <tbody>\n",
       "    <tr>\n",
       "      <th>0</th>\n",
       "      <td>-0.913385</td>\n",
       "      <td>-0.707176</td>\n",
       "      <td>0.528538</td>\n",
       "      <td>0.828236</td>\n",
       "      <td>-4.068852</td>\n",
       "      <td>0.438694</td>\n",
       "      <td>-0.484361</td>\n",
       "    </tr>\n",
       "    <tr>\n",
       "      <th>1</th>\n",
       "      <td>0.954768</td>\n",
       "      <td>0.359495</td>\n",
       "      <td>-1.892012</td>\n",
       "      <td>2.282252</td>\n",
       "      <td>-4.068852</td>\n",
       "      <td>0.438694</td>\n",
       "      <td>-0.425684</td>\n",
       "    </tr>\n",
       "    <tr>\n",
       "      <th>2</th>\n",
       "      <td>-2.470179</td>\n",
       "      <td>-1.507180</td>\n",
       "      <td>-1.892012</td>\n",
       "      <td>-0.625779</td>\n",
       "      <td>0.245770</td>\n",
       "      <td>0.438694</td>\n",
       "      <td>0.249097</td>\n",
       "    </tr>\n",
       "    <tr>\n",
       "      <th>3</th>\n",
       "      <td>-0.913385</td>\n",
       "      <td>-0.440508</td>\n",
       "      <td>0.528538</td>\n",
       "      <td>-0.625779</td>\n",
       "      <td>0.245770</td>\n",
       "      <td>0.438694</td>\n",
       "      <td>0.249097</td>\n",
       "    </tr>\n",
       "    <tr>\n",
       "      <th>4</th>\n",
       "      <td>-0.602026</td>\n",
       "      <td>-0.440508</td>\n",
       "      <td>0.528538</td>\n",
       "      <td>-0.625779</td>\n",
       "      <td>0.245770</td>\n",
       "      <td>-2.279491</td>\n",
       "      <td>0.425127</td>\n",
       "    </tr>\n",
       "    <tr>\n",
       "      <th>...</th>\n",
       "      <td>...</td>\n",
       "      <td>...</td>\n",
       "      <td>...</td>\n",
       "      <td>...</td>\n",
       "      <td>...</td>\n",
       "      <td>...</td>\n",
       "      <td>...</td>\n",
       "    </tr>\n",
       "    <tr>\n",
       "      <th>74</th>\n",
       "      <td>0.332050</td>\n",
       "      <td>0.092827</td>\n",
       "      <td>-1.892012</td>\n",
       "      <td>0.828236</td>\n",
       "      <td>0.245770</td>\n",
       "      <td>-2.279491</td>\n",
       "      <td>-0.601714</td>\n",
       "    </tr>\n",
       "    <tr>\n",
       "      <th>75</th>\n",
       "      <td>-1.224743</td>\n",
       "      <td>-1.240512</td>\n",
       "      <td>0.528538</td>\n",
       "      <td>-0.625779</td>\n",
       "      <td>0.245770</td>\n",
       "      <td>0.438694</td>\n",
       "      <td>0.366451</td>\n",
       "    </tr>\n",
       "    <tr>\n",
       "      <th>76</th>\n",
       "      <td>-0.602026</td>\n",
       "      <td>-0.440508</td>\n",
       "      <td>-1.892012</td>\n",
       "      <td>-0.625779</td>\n",
       "      <td>0.245770</td>\n",
       "      <td>0.438694</td>\n",
       "      <td>0.249097</td>\n",
       "    </tr>\n",
       "    <tr>\n",
       "      <th>77</th>\n",
       "      <td>1.266127</td>\n",
       "      <td>0.892831</td>\n",
       "      <td>0.528538</td>\n",
       "      <td>-0.625779</td>\n",
       "      <td>0.245770</td>\n",
       "      <td>0.438694</td>\n",
       "      <td>-0.484361</td>\n",
       "    </tr>\n",
       "    <tr>\n",
       "      <th>78</th>\n",
       "      <td>-1.536102</td>\n",
       "      <td>-1.507180</td>\n",
       "      <td>0.528538</td>\n",
       "      <td>-0.625779</td>\n",
       "      <td>0.245770</td>\n",
       "      <td>0.438694</td>\n",
       "      <td>-0.367008</td>\n",
       "    </tr>\n",
       "  </tbody>\n",
       "</table>\n",
       "<p>79 rows × 7 columns</p>\n",
       "</div>"
      ],
      "text/plain": [
       "           0         1         2         3         4         5         6\n",
       "0  -0.913385 -0.707176  0.528538  0.828236 -4.068852  0.438694 -0.484361\n",
       "1   0.954768  0.359495 -1.892012  2.282252 -4.068852  0.438694 -0.425684\n",
       "2  -2.470179 -1.507180 -1.892012 -0.625779  0.245770  0.438694  0.249097\n",
       "3  -0.913385 -0.440508  0.528538 -0.625779  0.245770  0.438694  0.249097\n",
       "4  -0.602026 -0.440508  0.528538 -0.625779  0.245770 -2.279491  0.425127\n",
       "..       ...       ...       ...       ...       ...       ...       ...\n",
       "74  0.332050  0.092827 -1.892012  0.828236  0.245770 -2.279491 -0.601714\n",
       "75 -1.224743 -1.240512  0.528538 -0.625779  0.245770  0.438694  0.366451\n",
       "76 -0.602026 -0.440508 -1.892012 -0.625779  0.245770  0.438694  0.249097\n",
       "77  1.266127  0.892831  0.528538 -0.625779  0.245770  0.438694 -0.484361\n",
       "78 -1.536102 -1.507180  0.528538 -0.625779  0.245770  0.438694 -0.367008\n",
       "\n",
       "[79 rows x 7 columns]"
      ]
     },
     "execution_count": 64,
     "metadata": {},
     "output_type": "execute_result"
    }
   ],
   "source": [
    "# converting X_train_transformed_wG1G2 to a dataframe\n",
    "X_test_transformed_wG1G2_df = pd.DataFrame(X_test_transformed_wG1G2)\n",
    "X_test_transformed_wG1G2_df"
   ]
  },
  {
   "cell_type": "code",
   "execution_count": 65,
   "id": "9b8fcc9e-c929-4fb1-83c1-9b8113962986",
   "metadata": {},
   "outputs": [
    {
     "data": {
      "text/html": [
       "<div>\n",
       "<style scoped>\n",
       "    .dataframe tbody tr th:only-of-type {\n",
       "        vertical-align: middle;\n",
       "    }\n",
       "\n",
       "    .dataframe tbody tr th {\n",
       "        vertical-align: top;\n",
       "    }\n",
       "\n",
       "    .dataframe thead th {\n",
       "        text-align: right;\n",
       "    }\n",
       "</style>\n",
       "<table border=\"1\" class=\"dataframe\">\n",
       "  <thead>\n",
       "    <tr style=\"text-align: right;\">\n",
       "      <th></th>\n",
       "      <th>G1</th>\n",
       "      <th>G2</th>\n",
       "      <th>address</th>\n",
       "      <th>traveltime</th>\n",
       "      <th>higher</th>\n",
       "      <th>internet</th>\n",
       "      <th>total_absences</th>\n",
       "    </tr>\n",
       "  </thead>\n",
       "  <tbody>\n",
       "    <tr>\n",
       "      <th>0</th>\n",
       "      <td>-0.913385</td>\n",
       "      <td>-0.707176</td>\n",
       "      <td>0.528538</td>\n",
       "      <td>0.828236</td>\n",
       "      <td>-4.068852</td>\n",
       "      <td>0.438694</td>\n",
       "      <td>-0.484361</td>\n",
       "    </tr>\n",
       "    <tr>\n",
       "      <th>1</th>\n",
       "      <td>0.954768</td>\n",
       "      <td>0.359495</td>\n",
       "      <td>-1.892012</td>\n",
       "      <td>2.282252</td>\n",
       "      <td>-4.068852</td>\n",
       "      <td>0.438694</td>\n",
       "      <td>-0.425684</td>\n",
       "    </tr>\n",
       "    <tr>\n",
       "      <th>2</th>\n",
       "      <td>-2.470179</td>\n",
       "      <td>-1.507180</td>\n",
       "      <td>-1.892012</td>\n",
       "      <td>-0.625779</td>\n",
       "      <td>0.245770</td>\n",
       "      <td>0.438694</td>\n",
       "      <td>0.249097</td>\n",
       "    </tr>\n",
       "    <tr>\n",
       "      <th>3</th>\n",
       "      <td>-0.913385</td>\n",
       "      <td>-0.440508</td>\n",
       "      <td>0.528538</td>\n",
       "      <td>-0.625779</td>\n",
       "      <td>0.245770</td>\n",
       "      <td>0.438694</td>\n",
       "      <td>0.249097</td>\n",
       "    </tr>\n",
       "    <tr>\n",
       "      <th>4</th>\n",
       "      <td>-0.602026</td>\n",
       "      <td>-0.440508</td>\n",
       "      <td>0.528538</td>\n",
       "      <td>-0.625779</td>\n",
       "      <td>0.245770</td>\n",
       "      <td>-2.279491</td>\n",
       "      <td>0.425127</td>\n",
       "    </tr>\n",
       "    <tr>\n",
       "      <th>...</th>\n",
       "      <td>...</td>\n",
       "      <td>...</td>\n",
       "      <td>...</td>\n",
       "      <td>...</td>\n",
       "      <td>...</td>\n",
       "      <td>...</td>\n",
       "      <td>...</td>\n",
       "    </tr>\n",
       "    <tr>\n",
       "      <th>74</th>\n",
       "      <td>0.332050</td>\n",
       "      <td>0.092827</td>\n",
       "      <td>-1.892012</td>\n",
       "      <td>0.828236</td>\n",
       "      <td>0.245770</td>\n",
       "      <td>-2.279491</td>\n",
       "      <td>-0.601714</td>\n",
       "    </tr>\n",
       "    <tr>\n",
       "      <th>75</th>\n",
       "      <td>-1.224743</td>\n",
       "      <td>-1.240512</td>\n",
       "      <td>0.528538</td>\n",
       "      <td>-0.625779</td>\n",
       "      <td>0.245770</td>\n",
       "      <td>0.438694</td>\n",
       "      <td>0.366451</td>\n",
       "    </tr>\n",
       "    <tr>\n",
       "      <th>76</th>\n",
       "      <td>-0.602026</td>\n",
       "      <td>-0.440508</td>\n",
       "      <td>-1.892012</td>\n",
       "      <td>-0.625779</td>\n",
       "      <td>0.245770</td>\n",
       "      <td>0.438694</td>\n",
       "      <td>0.249097</td>\n",
       "    </tr>\n",
       "    <tr>\n",
       "      <th>77</th>\n",
       "      <td>1.266127</td>\n",
       "      <td>0.892831</td>\n",
       "      <td>0.528538</td>\n",
       "      <td>-0.625779</td>\n",
       "      <td>0.245770</td>\n",
       "      <td>0.438694</td>\n",
       "      <td>-0.484361</td>\n",
       "    </tr>\n",
       "    <tr>\n",
       "      <th>78</th>\n",
       "      <td>-1.536102</td>\n",
       "      <td>-1.507180</td>\n",
       "      <td>0.528538</td>\n",
       "      <td>-0.625779</td>\n",
       "      <td>0.245770</td>\n",
       "      <td>0.438694</td>\n",
       "      <td>-0.367008</td>\n",
       "    </tr>\n",
       "  </tbody>\n",
       "</table>\n",
       "<p>79 rows × 7 columns</p>\n",
       "</div>"
      ],
      "text/plain": [
       "          G1        G2   address  traveltime    higher  internet  \\\n",
       "0  -0.913385 -0.707176  0.528538    0.828236 -4.068852  0.438694   \n",
       "1   0.954768  0.359495 -1.892012    2.282252 -4.068852  0.438694   \n",
       "2  -2.470179 -1.507180 -1.892012   -0.625779  0.245770  0.438694   \n",
       "3  -0.913385 -0.440508  0.528538   -0.625779  0.245770  0.438694   \n",
       "4  -0.602026 -0.440508  0.528538   -0.625779  0.245770 -2.279491   \n",
       "..       ...       ...       ...         ...       ...       ...   \n",
       "74  0.332050  0.092827 -1.892012    0.828236  0.245770 -2.279491   \n",
       "75 -1.224743 -1.240512  0.528538   -0.625779  0.245770  0.438694   \n",
       "76 -0.602026 -0.440508 -1.892012   -0.625779  0.245770  0.438694   \n",
       "77  1.266127  0.892831  0.528538   -0.625779  0.245770  0.438694   \n",
       "78 -1.536102 -1.507180  0.528538   -0.625779  0.245770  0.438694   \n",
       "\n",
       "    total_absences  \n",
       "0        -0.484361  \n",
       "1        -0.425684  \n",
       "2         0.249097  \n",
       "3         0.249097  \n",
       "4         0.425127  \n",
       "..             ...  \n",
       "74       -0.601714  \n",
       "75        0.366451  \n",
       "76        0.249097  \n",
       "77       -0.484361  \n",
       "78       -0.367008  \n",
       "\n",
       "[79 rows x 7 columns]"
      ]
     },
     "execution_count": 65,
     "metadata": {},
     "output_type": "execute_result"
    }
   ],
   "source": [
    "# correct column names\n",
    "correct_column_names= ['G1', 'G2', 'address','traveltime','higher','internet','total_absences']\n",
    "\n",
    "# reassigning the correct column names to the DataFrame\n",
    "X_test_transformed_wG1G2_df.columns = correct_column_names\n",
    "X_test_transformed_wG1G2_df"
   ]
  },
  {
   "cell_type": "markdown",
   "id": "c4d23b57-0e97-49d3-850f-0a6d24c1465c",
   "metadata": {},
   "source": [
    "### Final Model Selection and Performance on Test Set\n",
    "The final model selected is the Random Forest Regression Model with the G1 and G2 columns as it was the best performing model on training data from the four models.  It will be evaluated on the transformed test set to see how it generalizes and performs on the randomized test dataset."
   ]
  },
  {
   "cell_type": "code",
   "execution_count": 66,
   "id": "e8037e61-d727-4f35-8710-0d11ed4f8032",
   "metadata": {},
   "outputs": [],
   "source": [
    "# prediction for random forest model with G1G2 on transformed test data\n",
    "forest_wG1G2_pred = forest_reg_wG1G2.predict(X_test_transformed_wG1G2_df)"
   ]
  },
  {
   "cell_type": "code",
   "execution_count": 67,
   "id": "aa407ba9-842d-4b68-a9e6-0442af3a1d96",
   "metadata": {},
   "outputs": [],
   "source": [
    "from sklearn.metrics import mean_squared_error\n",
    "\n",
    "# RMSE calculated with y_test and predictions for random forest model with G1G2rounded to 4 decimals\n",
    "rmse_forest_wG1G2 = round(np.sqrt(mean_squared_error(y_test, forest_wG1G2_pred)),4)"
   ]
  },
  {
   "cell_type": "code",
   "execution_count": 68,
   "id": "f357f88b-6b88-4857-881e-15bb314c20b1",
   "metadata": {},
   "outputs": [],
   "source": [
    "from sklearn.metrics import r2_score\n",
    "\n",
    "# R-squared value for random forest model with G1G2 rounded to 4 decimals\n",
    "r2_forest_wG1G2 = round(r2_score(y_test,forest_wG1G2_pred),4)"
   ]
  },
  {
   "cell_type": "code",
   "execution_count": 69,
   "id": "5f0bbd77-f4e5-465c-870b-fce3b0d89fad",
   "metadata": {
    "scrolled": true
   },
   "outputs": [
    {
     "name": "stdout",
     "output_type": "stream",
     "text": [
      "RMSE (Forest): 1.987\n",
      "----------\n",
      "R-squared (Forest): 0.8075\n"
     ]
    }
   ],
   "source": [
    "print(f\"RMSE (Forest): {rmse_forest_wG1G2}\")\n",
    "print(\"----------\")\n",
    "print(f\"R-squared (Forest): {r2_forest_wG1G2}\")"
   ]
  },
  {
   "cell_type": "markdown",
   "id": "d67e3cc5-ddbe-4214-864d-02ab66599389",
   "metadata": {},
   "source": [
    "## Conclusion:"
   ]
  },
  {
   "cell_type": "markdown",
   "id": "c2b41292-4526-4a93-86ad-1e0a5578d9d3",
   "metadata": {},
   "source": [
    "Given various student data collected from two Portuguese schools with students from 15-22 years old, the machine learning model of Random Forest Regression was selected as it performed 5.0% better than ordinary least squares, ridge regression, and stochastic gradient descent regression models on the training data to predict a student's performance based on select attributes.  The final model incorporated the G1 and G2 grades because omitting these terms resulted in the models performing approximately 40% worse. The Random Forest Regression model can be used to identify students that could benefit from additional assistance and interventions to improve their grade in the course, however, additional models including support vector machine regression can be tested to evaluate if the performance can be improved from Random Forest Regression.  \n",
    "\n",
    "The model's attributes that were selected ('address', 'traveltime', 'higher', and 'internet') were based on the exploratory analysis due to the possible programs that can be implemented with each attribute to improve the scholastic performance of students that could benefit from additional resources. Possible programs could be to offer more effective bus routes to ensure that the traveltimes of students that commute more than an hour be shortened. Additional programs that offer an \"internet schedule\" where students without acces to the internet at home be given additional access for schoolwork, and outreach programs that discuss how important attendence and higher education is to parents and students.\n",
    "\n",
    "The Random Forest Regression Model demonstrated to be the best model when compared to the ordinary least squares, ridge regression, and stochastic gradient descent regression models.  The final Random Forest Regression model with G1 and G2 grade terms had an average RMSE score of 1.987 and an R squared value of 0.8075 with the test data, which is an increase in average RMSE score from the training data (1.7658).  This drop in model performance could be an indication of the model overfitting the training data and the need for model regularization and further evaluation could be warranted."
   ]
  }
 ],
 "metadata": {
  "kernelspec": {
   "display_name": "assnmt2",
   "language": "python",
   "name": "assnmt2"
  },
  "language_info": {
   "codemirror_mode": {
    "name": "ipython",
    "version": 3
   },
   "file_extension": ".py",
   "mimetype": "text/x-python",
   "name": "python",
   "nbconvert_exporter": "python",
   "pygments_lexer": "ipython3",
   "version": "3.9.13"
  }
 },
 "nbformat": 4,
 "nbformat_minor": 5
}
